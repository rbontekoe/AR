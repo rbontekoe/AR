{
 "cells": [
  {
   "cell_type": "markdown",
   "metadata": {},
   "source": [
    "https://www.geeksforgeeks.org/serialization-in-julia/\n",
    "\n",
    "@async begin\n",
    "    server = listen(IPv4(0), 2001)\n",
    "    while true\n",
    "        sock = accept(server)\n",
    "        @async while isopen(sock)\n",
    "            write(sock, uppercase(readline(sock, keep=true)))\n",
    "        end\n",
    "    end\n",
    "end\n",
    "\n",
    "wait(Condition())"
   ]
  },
  {
   "cell_type": "code",
   "execution_count": 1,
   "metadata": {},
   "outputs": [],
   "source": [
    "using Sockets"
   ]
  },
  {
   "cell_type": "code",
   "execution_count": 2,
   "metadata": {},
   "outputs": [
    {
     "data": {
      "text/plain": [
       "TCPSocket(RawFD(51) open, 0 bytes waiting)"
      ]
     },
     "execution_count": 2,
     "metadata": {},
     "output_type": "execute_result"
    }
   ],
   "source": [
    "clientside = connect(ip\"192.168.2.40\", 30012)"
   ]
  },
  {
   "cell_type": "code",
   "execution_count": 3,
   "metadata": {},
   "outputs": [
    {
     "data": {
      "text/plain": [
       "Task (runnable) @0x00007fbd503ce8c0"
      ]
     },
     "execution_count": 3,
     "metadata": {},
     "output_type": "execute_result"
    }
   ],
   "source": [
    "@async while isopen(clientside)\n",
    "    write(stdout, readline(clientside, keep=true))\n",
    "end"
   ]
  },
  {
   "cell_type": "code",
   "execution_count": 4,
   "metadata": {},
   "outputs": [
    {
     "name": "stdout",
     "output_type": "stream",
     "text": [
      "HELLO WORLD FROM THE ECHO SERVER\n"
     ]
    }
   ],
   "source": [
    "println(clientside,\"Hello World from the Echo Server\")"
   ]
  },
  {
   "cell_type": "code",
   "execution_count": null,
   "metadata": {},
   "outputs": [],
   "source": []
  },
  {
   "cell_type": "code",
   "execution_count": 1,
   "metadata": {},
   "outputs": [],
   "source": [
    "struct Person\n",
    "    name::String\n",
    "    email::String\n",
    "end"
   ]
  },
  {
   "cell_type": "code",
   "execution_count": 2,
   "metadata": {},
   "outputs": [
    {
     "data": {
      "text/plain": [
       "Person(\"Rob\", \"rbontekoe@appligate.nl\")"
      ]
     },
     "execution_count": 2,
     "metadata": {},
     "output_type": "execute_result"
    }
   ],
   "source": [
    "rob = Person(\"Rob\", \"rbontekoe@appligate.nl\")"
   ]
  },
  {
   "cell_type": "code",
   "execution_count": null,
   "metadata": {},
   "outputs": [],
   "source": []
  },
  {
   "cell_type": "code",
   "execution_count": 19,
   "metadata": {},
   "outputs": [],
   "source": [
    "# De-serialization Example\n",
    "# Using Serialization module\n",
    "using Serialization\n",
    "  \n",
    "# IObuffer function to convert \n",
    "# object to byte streams\n",
    "io = IOBuffer();\n",
    "  \n",
    "# Declare an array\n",
    "#arr = [1, 2, 3, 4, 5];"
   ]
  },
  {
   "cell_type": "code",
   "execution_count": 20,
   "metadata": {},
   "outputs": [],
   "source": [
    "# Serialize function takes stream \n",
    "# and value as parameters\n",
    "serialize(io, rob)"
   ]
  },
  {
   "cell_type": "code",
   "execution_count": 21,
   "metadata": {},
   "outputs": [],
   "source": [
    "# take! Function fetches IOBUffer contents \n",
    "# as Byte array and resets\n",
    "s = take!(io);"
   ]
  },
  {
   "cell_type": "code",
   "execution_count": 22,
   "metadata": {},
   "outputs": [
    {
     "data": {
      "text/plain": [
       "\"Rob\""
      ]
     },
     "execution_count": 22,
     "metadata": {},
     "output_type": "execute_result"
    }
   ],
   "source": [
    "# Deserialize function takes stream as parameter\n",
    "ds = deserialize(IOBuffer(s))\n",
    "ds.name"
   ]
  },
  {
   "cell_type": "code",
   "execution_count": null,
   "metadata": {},
   "outputs": [],
   "source": []
  }
 ],
 "metadata": {
  "kernelspec": {
   "display_name": "Julia 1.6.0",
   "language": "julia",
   "name": "julia-1.6"
  },
  "language_info": {
   "file_extension": ".jl",
   "mimetype": "application/julia",
   "name": "julia",
   "version": "1.6.0"
  }
 },
 "nbformat": 4,
 "nbformat_minor": 4
}
