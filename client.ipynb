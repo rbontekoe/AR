{
 "cells": [
  {
   "cell_type": "markdown",
   "metadata": {},
   "source": [
    "# Socket application with microk8s on Ubuntu 20.04\n",
    "\n",
    "### Client"
   ]
  },
  {
   "cell_type": "markdown",
   "metadata": {},
   "source": [
    "\n",
    "                       BankStatement(s)\n",
    "                              ↓       \n",
    "          Order(s) -> AccountsReceivable --> Entry(s) -> GeneralLedger\n",
    "                              ↑                                ↑\n",
    "                              ↓                                ↓\n",
    "                            Store                            Store\n"
   ]
  },
  {
   "cell_type": "markdown",
   "metadata": {},
   "source": [
    "### Check whether ar-statefulset, gl-statefullset and cnt-statefullset  pods are running\n",
    "\n",
    "### If pods are not running use next commands from the terminal\n",
    "- Install microk8s: sudo snap install microk8s --classic\n",
    "- Enable microk8sbuild-in registry: microk8s enable registry\n",
    "- Clone files from GitHub: git clone https://github.com/rbontekoe/AR.git\n",
    "- Enter downloaded files: cd AR\n",
    "- Download Julia 1.6.0: curl -O https://julialang-s3.julialang.org/bin/linux/x64/1.6/julia-1.6.0-linux-x86_64.tar.gz\n",
    "- Create accounts receivable image: docker build --no-cache -f ar.Dockerfile -t localhost:32000/i_ar:v1.0.11 .\n",
    "- Copy to local registry: docker push localhost:32000/i_ar:v1.0.11\n",
    "- Create general ledger image: docker build --no-cache -f gl.Dockerfile -t localhost:32000/i_gl:v1.0.3 .\n",
    "- Copy to local registry: docker push localhost:32000/i_gl:v1.0.3\n",
    "- Create counter image: docker build --no-cache -f cnt.Dockerfile -t localhost:32000/i_cnt:v1.0.1 .\n",
    "- Copy to local registry: docker push localhost:32000/i_cnt:v1.0.1\n",
    "- microk8s.kubectl apply -f ar-storage.yaml\n",
    "- microk8s.kubectl apply -f gl-storage.yaml\n",
    "- microk8s.kubectl apply -f cnt-storage.yaml\n"
   ]
  },
  {
   "cell_type": "code",
   "execution_count": 1,
   "metadata": {},
   "outputs": [
    {
     "name": "stdout",
     "output_type": "stream",
     "text": [
      "NAME                READY   STATUS    RESTARTS   AGE\n",
      "cnt-statefulset-0   1/1     Running   2          46m\n",
      "gl-statefulset-0    1/1     Running   0          27m\n",
      "gl-statefulset-1    1/1     Running   0          27m\n",
      "ar-statefulset-1    1/1     Running   0          2m53s\n",
      "ar-statefulset-0    1/1     Running   0          2m3s\n"
     ]
    }
   ],
   "source": [
    ";microk8s.kubectl get pods -n socket-ns"
   ]
  },
  {
   "cell_type": "markdown",
   "metadata": {},
   "source": [
    "#### Remove the Previous Generated Files\n",
    "\n",
    "- sudo rm /var/data-ar/unpaid-invoices.txt /var/data-ar/paid-invoices.txt /var/data-gl/journal.txt /var/data-gl/generalledger.txt /var/data-cnt/seqnbr.txt"
   ]
  },
  {
   "cell_type": "markdown",
   "metadata": {},
   "source": [
    "# Test Acount Receivable & GeneralLedger Microservices (microk8s)"
   ]
  },
  {
   "cell_type": "markdown",
   "metadata": {},
   "source": [
    "###  Load the packages"
   ]
  },
  {
   "cell_type": "code",
   "execution_count": 2,
   "metadata": {},
   "outputs": [],
   "source": [
    "using Sockets, Serialization, AppliSales, AppliAR, AppliGeneralLedger, DataFrames, Query"
   ]
  },
  {
   "cell_type": "markdown",
   "metadata": {},
   "source": [
    "### Connect to Accounts Receivable (ar-statefulset)"
   ]
  },
  {
   "cell_type": "code",
   "execution_count": 3,
   "metadata": {},
   "outputs": [
    {
     "data": {
      "text/plain": [
       "TCPSocket(RawFD(51) open, 0 bytes waiting)"
      ]
     },
     "execution_count": 3,
     "metadata": {},
     "output_type": "execute_result"
    }
   ],
   "source": [
    "clientside = connect(ip\"192.168.2.40\", 30012) # connect to account receivable pod ar-statefulset"
   ]
  },
  {
   "cell_type": "markdown",
   "metadata": {},
   "source": [
    "### Send the sales orders to Accounts Receivable (ar-statefulset)"
   ]
  },
  {
   "cell_type": "code",
   "execution_count": 4,
   "metadata": {},
   "outputs": [],
   "source": [
    "sales = AppliSales.process() # create sales orders\n",
    "serialize(clientside, sales) # send orders to account receivable"
   ]
  },
  {
   "cell_type": "markdown",
   "metadata": {},
   "source": [
    "### Check whether the file unpaid-invoices.txt has been created"
   ]
  },
  {
   "cell_type": "code",
   "execution_count": 5,
   "metadata": {},
   "outputs": [
    {
     "name": "stdout",
     "output_type": "stream",
     "text": [
      "/var/data-ar/unpaid-invoices.txt\n"
     ]
    }
   ],
   "source": [
    "; ls /var/data-ar/unpaid-invoices.txt"
   ]
  },
  {
   "cell_type": "markdown",
   "metadata": {},
   "source": [
    "### Display general ledger account 1300 (gl-statefulset)"
   ]
  },
  {
   "cell_type": "code",
   "execution_count": 6,
   "metadata": {},
   "outputs": [
    {
     "data": {
      "text/html": [
       "<table class=\"data-frame\"><thead><tr><th></th><th>accountid</th><th>customerid</th><th>invoice_nbr</th><th>debit</th><th>credit</th><th>descr</th></tr><tr><th></th><th>Int64</th><th>String</th><th>String</th><th>Float64</th><th>Float64</th><th>String</th></tr></thead><tbody><p>3 rows × 6 columns</p><tr><th>1</th><td>1300</td><td>Scrooge Investment Bank</td><td>ar1-1001</td><td>1210.0</td><td>0.0</td><td>Learn Smiling</td></tr><tr><th>2</th><td>1300</td><td>Duck City Chronicals</td><td>ar1-1002</td><td>2420.0</td><td>0.0</td><td>Learn Smiling</td></tr><tr><th>3</th><td>1300</td><td>Donalds Hardware Store</td><td>ar1-1003</td><td>1210.0</td><td>0.0</td><td>Learn Smiling</td></tr></tbody></table>"
      ],
      "text/latex": [
       "\\begin{tabular}{r|cccccc}\n",
       "\t& accountid & customerid & invoice\\_nbr & debit & credit & descr\\\\\n",
       "\t\\hline\n",
       "\t& Int64 & String & String & Float64 & Float64 & String\\\\\n",
       "\t\\hline\n",
       "\t1 & 1300 & Scrooge Investment Bank & ar1-1001 & 1210.0 & 0.0 & Learn Smiling \\\\\n",
       "\t2 & 1300 & Duck City Chronicals & ar1-1002 & 2420.0 & 0.0 & Learn Smiling \\\\\n",
       "\t3 & 1300 & Donalds Hardware Store & ar1-1003 & 1210.0 & 0.0 & Learn Smiling \\\\\n",
       "\\end{tabular}\n"
      ],
      "text/plain": [
       "3×6 typename(DataFrame). Omitted printing of 1 columns\n",
       "│ Row │ accountid │ customerid              │ invoice_nbr │ debit   │ credit  │\n",
       "│     │ \u001b[90mInt64\u001b[39m     │ \u001b[90mString\u001b[39m                  │ \u001b[90mString\u001b[39m      │ \u001b[90mFloat64\u001b[39m │ \u001b[90mFloat64\u001b[39m │\n",
       "├─────┼───────────┼─────────────────────────┼─────────────┼─────────┼─────────┤\n",
       "│ 1   │ 1300      │ Scrooge Investment Bank │ ar1-1001    │ 1210.0  │ 0.0     │\n",
       "│ 2   │ 1300      │ Duck City Chronicals    │ ar1-1002    │ 2420.0  │ 0.0     │\n",
       "│ 3   │ 1300      │ Donalds Hardware Store  │ ar1-1003    │ 1210.0  │ 0.0     │"
      ]
     },
     "execution_count": 6,
     "metadata": {},
     "output_type": "execute_result"
    }
   ],
   "source": [
    "r = AppliGeneralLedger.read_from_file(\"/var/data-gl/generalledger.txt\")\n",
    "#df = DataFrame(r)\n",
    "df = r |> @filter(_.accountid == 1300) |> DataFrame\n",
    "df[:, [:accountid, :customerid, :invoice_nbr, :debit, :credit, :descr]]"
   ]
  },
  {
   "cell_type": "markdown",
   "metadata": {},
   "source": [
    "### Modify bank-kubernetes.csv\n",
    "\n",
    "Modify bank-kubernetes.csv so that invoice_nbr has the correct prefix (ar0 or ar1) and invoice number."
   ]
  },
  {
   "cell_type": "code",
   "execution_count": 7,
   "metadata": {},
   "outputs": [
    {
     "data": {
      "text/plain": [
       "2-element Vector{BankStatement}:\n",
       " BankStatement(Dates.Date(\"2020-01-15\"), \"Duck City Chronicals Invoice ar1-1002\", \"NL93INGB\", 2420.0)\n",
       " BankStatement(Dates.Date(\"2020-01-15\"), \"Donalds Hardware Store Bill ar1-1003\", \"NL39INGB\", 1210.0)"
      ]
     },
     "execution_count": 7,
     "metadata": {},
     "output_type": "execute_result"
    }
   ],
   "source": [
    "stms = AppliAR.read_bank_statements(\"./bank-kubernetes.csv\") # retrieve the bankstatements"
   ]
  },
  {
   "cell_type": "markdown",
   "metadata": {},
   "source": [
    "### Process the bank statements"
   ]
  },
  {
   "cell_type": "code",
   "execution_count": 8,
   "metadata": {},
   "outputs": [],
   "source": [
    "serialize(clientside, stms) # create paid invoices and update general ledger"
   ]
  },
  {
   "cell_type": "markdown",
   "metadata": {},
   "source": [
    "### Check whether the file paid-invoices.txt has been created"
   ]
  },
  {
   "cell_type": "code",
   "execution_count": 9,
   "metadata": {},
   "outputs": [
    {
     "name": "stdout",
     "output_type": "stream",
     "text": [
      "/var/data-ar/paid-invoices.txt\n"
     ]
    }
   ],
   "source": [
    "; ls /var/data-ar/paid-invoices.txt"
   ]
  },
  {
   "cell_type": "markdown",
   "metadata": {},
   "source": [
    "### Check whether payments are booked"
   ]
  },
  {
   "cell_type": "code",
   "execution_count": 10,
   "metadata": {},
   "outputs": [
    {
     "data": {
      "text/html": [
       "<table class=\"data-frame\"><thead><tr><th></th><th>accountid</th><th>customerid</th><th>invoice_nbr</th><th>debit</th><th>credit</th><th>descr</th></tr><tr><th></th><th>Int64</th><th>String</th><th>String</th><th>Float64</th><th>Float64</th><th>String</th></tr></thead><tbody><p>5 rows × 6 columns</p><tr><th>1</th><td>1300</td><td>Scrooge Investment Bank</td><td>ar1-1001</td><td>1210.0</td><td>0.0</td><td>Learn Smiling</td></tr><tr><th>2</th><td>1300</td><td>Duck City Chronicals</td><td>ar1-1002</td><td>2420.0</td><td>0.0</td><td>Learn Smiling</td></tr><tr><th>3</th><td>1300</td><td>Donalds Hardware Store</td><td>ar1-1003</td><td>1210.0</td><td>0.0</td><td>Learn Smiling</td></tr><tr><th>4</th><td>1300</td><td>Duck City Chronicals</td><td>ar1-1002</td><td>0.0</td><td>2420.0</td><td>Learn Smiling</td></tr><tr><th>5</th><td>1300</td><td>Donalds Hardware Store</td><td>ar1-1003</td><td>0.0</td><td>1210.0</td><td>Learn Smiling</td></tr></tbody></table>"
      ],
      "text/latex": [
       "\\begin{tabular}{r|cccccc}\n",
       "\t& accountid & customerid & invoice\\_nbr & debit & credit & descr\\\\\n",
       "\t\\hline\n",
       "\t& Int64 & String & String & Float64 & Float64 & String\\\\\n",
       "\t\\hline\n",
       "\t1 & 1300 & Scrooge Investment Bank & ar1-1001 & 1210.0 & 0.0 & Learn Smiling \\\\\n",
       "\t2 & 1300 & Duck City Chronicals & ar1-1002 & 2420.0 & 0.0 & Learn Smiling \\\\\n",
       "\t3 & 1300 & Donalds Hardware Store & ar1-1003 & 1210.0 & 0.0 & Learn Smiling \\\\\n",
       "\t4 & 1300 & Duck City Chronicals & ar1-1002 & 0.0 & 2420.0 & Learn Smiling \\\\\n",
       "\t5 & 1300 & Donalds Hardware Store & ar1-1003 & 0.0 & 1210.0 & Learn Smiling \\\\\n",
       "\\end{tabular}\n"
      ],
      "text/plain": [
       "5×6 typename(DataFrame). Omitted printing of 1 columns\n",
       "│ Row │ accountid │ customerid              │ invoice_nbr │ debit   │ credit  │\n",
       "│     │ \u001b[90mInt64\u001b[39m     │ \u001b[90mString\u001b[39m                  │ \u001b[90mString\u001b[39m      │ \u001b[90mFloat64\u001b[39m │ \u001b[90mFloat64\u001b[39m │\n",
       "├─────┼───────────┼─────────────────────────┼─────────────┼─────────┼─────────┤\n",
       "│ 1   │ 1300      │ Scrooge Investment Bank │ ar1-1001    │ 1210.0  │ 0.0     │\n",
       "│ 2   │ 1300      │ Duck City Chronicals    │ ar1-1002    │ 2420.0  │ 0.0     │\n",
       "│ 3   │ 1300      │ Donalds Hardware Store  │ ar1-1003    │ 1210.0  │ 0.0     │\n",
       "│ 4   │ 1300      │ Duck City Chronicals    │ ar1-1002    │ 0.0     │ 2420.0  │\n",
       "│ 5   │ 1300      │ Donalds Hardware Store  │ ar1-1003    │ 0.0     │ 1210.0  │"
      ]
     },
     "execution_count": 10,
     "metadata": {},
     "output_type": "execute_result"
    }
   ],
   "source": [
    "r2 = AppliGeneralLedger.read_from_file(\"/var/data-gl/generalledger.txt\")\n",
    "df = r2 |> @filter(_.accountid == 1300) |> DataFrame\n",
    "df[:, [:accountid, :customerid, :invoice_nbr, :debit, :credit, :descr]]"
   ]
  },
  {
   "cell_type": "markdown",
   "metadata": {},
   "source": [
    "### Display the aging report"
   ]
  },
  {
   "cell_type": "code",
   "execution_count": 11,
   "metadata": {},
   "outputs": [
    {
     "data": {
      "text/html": [
       "<table class=\"data-frame\"><thead><tr><th></th><th>id_inv</th><th>csm</th><th>inv_date</th><th>amount</th><th>days</th></tr><tr><th></th><th>String</th><th>String</th><th>Dates…</th><th>Float64</th><th>Dates…</th></tr></thead><tbody><p>1 rows × 5 columns</p><tr><th>1</th><td>ar1-1001</td><td>Scrooge Investment Bank</td><td>Date(\"2021-08-27\")</td><td>1210.0</td><td>Day(0)</td></tr></tbody></table>"
      ],
      "text/latex": [
       "\\begin{tabular}{r|ccccc}\n",
       "\t& id\\_inv & csm & inv\\_date & amount & days\\\\\n",
       "\t\\hline\n",
       "\t& String & String & Dates… & Float64 & Dates…\\\\\n",
       "\t\\hline\n",
       "\t1 & ar1-1001 & Scrooge Investment Bank & Date(\"2021-08-27\") & 1210.0 & Day(0) \\\\\n",
       "\\end{tabular}\n"
      ],
      "text/plain": [
       "1×5 typename(DataFrame). Omitted printing of 1 columns\n",
       "│ Row │ id_inv   │ csm                     │ inv_date           │ amount  │\n",
       "│     │ \u001b[90mString\u001b[39m   │ \u001b[90mString\u001b[39m                  │ \u001b[90mDates.Date\u001b[39m         │ \u001b[90mFloat64\u001b[39m │\n",
       "├─────┼──────────┼─────────────────────────┼────────────────────┼─────────┤\n",
       "│ 1   │ ar1-1001 │ Scrooge Investment Bank │ Date(\"2021-08-27\") │ 1210.0  │"
      ]
     },
     "execution_count": 11,
     "metadata": {},
     "output_type": "execute_result"
    }
   ],
   "source": [
    "r1 = AppliAR.aging(\"/var/data-ar/unpaid-invoices.txt\", \"/var/data-ar/paid-invoices.txt\")\n",
    "result = DataFrame(r1)"
   ]
  },
  {
   "cell_type": "markdown",
   "metadata": {},
   "source": [
    "### ================================================================================"
   ]
  },
  {
   "cell_type": "markdown",
   "metadata": {},
   "source": [
    "# Socket application with Notebooks\n",
    "\n",
    "__!!! This will not work anymore. Use the previous example with Microk8s (= Kubernetes).__\n",
    "\n",
    "Usage:\n",
    "start the two notebooks with the servers and run the code:\n",
    "- server-ar.ipynb\n",
    "- server-gl.ipynb"
   ]
  },
  {
   "cell_type": "code",
   "execution_count": 1,
   "metadata": {},
   "outputs": [],
   "source": [
    "using Sockets, Serialization, AppliSales, AppliAR, AppliGeneralLedger, DataFrames, Query"
   ]
  },
  {
   "cell_type": "code",
   "execution_count": 2,
   "metadata": {},
   "outputs": [
    {
     "data": {
      "text/plain": [
       "TCPSocket(RawFD(51) open, 0 bytes waiting)"
      ]
     },
     "execution_count": 2,
     "metadata": {},
     "output_type": "execute_result"
    }
   ],
   "source": [
    "client = connect(ip\"192.168.2.40\", 2014)"
   ]
  },
  {
   "cell_type": "code",
   "execution_count": 3,
   "metadata": {},
   "outputs": [],
   "source": [
    "sales = AppliSales.process() # create orders\n",
    "serialize(client, sales) # send orders to account receivable"
   ]
  },
  {
   "cell_type": "code",
   "execution_count": 6,
   "metadata": {},
   "outputs": [
    {
     "data": {
      "text/plain": [
       "2-element Vector{BankStatement}:\n",
       " BankStatement(Dates.Date(\"2020-01-15\"), \"Duck City Chronicals Invoice A-1002\", \"NL93INGB\", 2420.0)\n",
       " BankStatement(Dates.Date(\"2020-01-15\"), \"Donalds Hardware Store Bill A-1003\", \"NL39INGB\", 1210.0)"
      ]
     },
     "execution_count": 6,
     "metadata": {},
     "output_type": "execute_result"
    }
   ],
   "source": [
    "stms = AppliAR.read_bank_statements(\"./bank.csv\")"
   ]
  },
  {
   "cell_type": "code",
   "execution_count": null,
   "metadata": {},
   "outputs": [],
   "source": [
    "serialize(client, stms)"
   ]
  },
  {
   "cell_type": "markdown",
   "metadata": {},
   "source": [
    "### ============================================================================"
   ]
  },
  {
   "cell_type": "markdown",
   "metadata": {},
   "source": [
    "# Test Counter Pod cnt-statefulset-0"
   ]
  },
  {
   "cell_type": "code",
   "execution_count": 22,
   "metadata": {},
   "outputs": [],
   "source": [
    "using Sockets, Serialization"
   ]
  },
  {
   "cell_type": "code",
   "execution_count": 23,
   "metadata": {},
   "outputs": [
    {
     "data": {
      "text/plain": [
       "TCPSocket(RawFD(55) open, 0 bytes waiting)"
      ]
     },
     "execution_count": 23,
     "metadata": {},
     "output_type": "execute_result"
    }
   ],
   "source": [
    "client = connect(ip\"192.168.2.40\", 30014)"
   ]
  },
  {
   "cell_type": "code",
   "execution_count": 24,
   "metadata": {},
   "outputs": [
    {
     "data": {
      "text/plain": [
       "retrieve_invoice_nbr (generic function with 1 method)"
      ]
     },
     "execution_count": 24,
     "metadata": {},
     "output_type": "execute_result"
    }
   ],
   "source": [
    "function retrieve_invoice_nbr(name::String, ip::IPv4, port::Int64)::Int64\n",
    "    client = connect(ip, port)\n",
    "\n",
    "    serialize(client, name)\n",
    "\n",
    "    return deserialize(client)\n",
    "end # retrieve_invoice_nbr"
   ]
  },
  {
   "cell_type": "code",
   "execution_count": 27,
   "metadata": {},
   "outputs": [
    {
     "data": {
      "text/plain": [
       "1015"
      ]
     },
     "execution_count": 27,
     "metadata": {},
     "output_type": "execute_result"
    }
   ],
   "source": [
    "invoice_nbr = retrieve_invoice_nbr(\"ABC\", ip\"192.168.2.40\", 30014)"
   ]
  },
  {
   "cell_type": "markdown",
   "metadata": {},
   "source": [
    "### ============================================================================"
   ]
  }
 ],
 "metadata": {
  "kernelspec": {
   "display_name": "Julia 1.6.0",
   "language": "julia",
   "name": "julia-1.6"
  },
  "language_info": {
   "file_extension": ".jl",
   "mimetype": "application/julia",
   "name": "julia",
   "version": "1.6.0"
  }
 },
 "nbformat": 4,
 "nbformat_minor": 4
}
