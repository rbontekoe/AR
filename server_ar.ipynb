{
 "cells": [
  {
   "cell_type": "markdown",
   "metadata": {},
   "source": [
    "# Socket connection with serialization\n",
    "\n",
    "### Server"
   ]
  },
  {
   "cell_type": "code",
   "execution_count": 1,
   "metadata": {},
   "outputs": [],
   "source": [
    "using Sockets, Serialization, AppliSales, AppliAR, AppliGeneralLedger, DataFrames"
   ]
  },
  {
   "cell_type": "code",
   "execution_count": 2,
   "metadata": {},
   "outputs": [
    {
     "data": {
      "text/plain": [
       "Task (runnable) @0x00007f26582f8be0"
      ]
     },
     "execution_count": 2,
     "metadata": {},
     "output_type": "execute_result"
    }
   ],
   "source": [
    "@async begin\n",
    "    server = listen(IPv4(0), 2014)\n",
    "    while true\n",
    "        sock = accept(server)\n",
    "        @async while isopen(sock)\n",
    "            data = deserialize(sock)\n",
    "            #println(typeof(data))\n",
    "            client = connect(ip\"192.168.2.40\", 2015)\n",
    "            if data isa Vector{AppliSales.Order} && isopen(client)\n",
    "                entries = AppliAR.process(data)\n",
    "                serialize(client, entries)\n",
    "            elseif data isa Vector{BankStatement} && isopen(client)\n",
    "                unpaid_inv = AppliAR.retrieve_unpaid_invoices()\n",
    "                entries = AppliAR.process(unpaid_inv, data)\n",
    "                serialize(client, entries)\n",
    "            end\n",
    "            #client = connect(ip\"10.152.183.82\", 2001).\n",
    "        end\n",
    "    end\n",
    "end\n",
    "\n",
    "#wait(Condition())"
   ]
  },
  {
   "cell_type": "markdown",
   "metadata": {},
   "source": [
    "### Aging report"
   ]
  },
  {
   "cell_type": "code",
   "execution_count": 3,
   "metadata": {},
   "outputs": [
    {
     "data": {
      "text/html": [
       "<table class=\"data-frame\"><thead><tr><th></th><th>id_inv</th><th>csm</th><th>inv_date</th><th>amount</th><th>days</th></tr><tr><th></th><th>String</th><th>String</th><th>Dates…</th><th>Float64</th><th>Dates…</th></tr></thead><tbody><p>3 rows × 5 columns</p><tr><th>1</th><td>A-1005</td><td>Scrooge Investment Bank</td><td>Date(\"2021-08-26\")</td><td>1210.0</td><td>Day(0)</td></tr><tr><th>2</th><td>A-1006</td><td>Duck City Chronicals</td><td>Date(\"2021-08-26\")</td><td>2420.0</td><td>Day(0)</td></tr><tr><th>3</th><td>A-1007</td><td>Donalds Hardware Store</td><td>Date(\"2021-08-26\")</td><td>1210.0</td><td>Day(0)</td></tr></tbody></table>"
      ],
      "text/latex": [
       "\\begin{tabular}{r|ccccc}\n",
       "\t& id\\_inv & csm & inv\\_date & amount & days\\\\\n",
       "\t\\hline\n",
       "\t& String & String & Dates… & Float64 & Dates…\\\\\n",
       "\t\\hline\n",
       "\t1 & A-1005 & Scrooge Investment Bank & Date(\"2021-08-26\") & 1210.0 & Day(0) \\\\\n",
       "\t2 & A-1006 & Duck City Chronicals & Date(\"2021-08-26\") & 2420.0 & Day(0) \\\\\n",
       "\t3 & A-1007 & Donalds Hardware Store & Date(\"2021-08-26\") & 1210.0 & Day(0) \\\\\n",
       "\\end{tabular}\n"
      ],
      "text/plain": [
       "3×5 typename(DataFrame). Omitted printing of 1 columns\n",
       "│ Row │ id_inv │ csm                     │ inv_date           │ amount  │\n",
       "│     │ \u001b[90mString\u001b[39m │ \u001b[90mString\u001b[39m                  │ \u001b[90mDates.Date\u001b[39m         │ \u001b[90mFloat64\u001b[39m │\n",
       "├─────┼────────┼─────────────────────────┼────────────────────┼─────────┤\n",
       "│ 1   │ A-1005 │ Scrooge Investment Bank │ Date(\"2021-08-26\") │ 1210.0  │\n",
       "│ 2   │ A-1006 │ Duck City Chronicals    │ Date(\"2021-08-26\") │ 2420.0  │\n",
       "│ 3   │ A-1007 │ Donalds Hardware Store  │ Date(\"2021-08-26\") │ 1210.0  │"
      ]
     },
     "execution_count": 3,
     "metadata": {},
     "output_type": "execute_result"
    }
   ],
   "source": [
    "r1 = AppliAR.report()\n",
    "result = DataFrame(r1)"
   ]
  },
  {
   "cell_type": "code",
   "execution_count": null,
   "metadata": {},
   "outputs": [],
   "source": []
  }
 ],
 "metadata": {
  "kernelspec": {
   "display_name": "Julia 1.6.0",
   "language": "julia",
   "name": "julia-1.6"
  },
  "language_info": {
   "file_extension": ".jl",
   "mimetype": "application/julia",
   "name": "julia",
   "version": "1.6.0"
  }
 },
 "nbformat": 4,
 "nbformat_minor": 4
}
