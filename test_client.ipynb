{
 "cells": [
  {
   "cell_type": "code",
   "execution_count": 67,
   "metadata": {},
   "outputs": [],
   "source": [
    "using Serialization, Sockets, DataFrames, AppliAR"
   ]
  },
  {
   "cell_type": "code",
   "execution_count": 71,
   "metadata": {},
   "outputs": [
    {
     "data": {
      "text/plain": [
       "TCPSocket(RawFD(67) open, 0 bytes waiting)"
      ]
     },
     "execution_count": 71,
     "metadata": {},
     "output_type": "execute_result"
    }
   ],
   "source": [
    "clientside = connect(ip\"127.0.0.1\", 3002)"
   ]
  },
  {
   "cell_type": "code",
   "execution_count": 72,
   "metadata": {},
   "outputs": [
    {
     "data": {
      "text/plain": [
       "Task (runnable) @0x00007f4c4c16da50"
      ]
     },
     "execution_count": 72,
     "metadata": {},
     "output_type": "execute_result"
    }
   ],
   "source": [
    "#data = \"\"\n",
    "@async while isopen(clientside)\n",
    "    data = deserialize(clientside)\n",
    "    if data != \"\"  \n",
    "      println(DataFrame(data))\n",
    "    else\n",
    "      println(\"NOT OK\")\n",
    "    end\n",
    "end"
   ]
  },
  {
   "cell_type": "code",
   "execution_count": 73,
   "metadata": {},
   "outputs": [
    {
     "name": "stdout",
     "output_type": "stream",
     "text": [
      "1×5 typename(DataFrame)\n",
      "│ Row │ id_inv │ csm                     │ inv_date           │ amount  │ days   │\n",
      "│     │ \u001b[90mString\u001b[39m │ \u001b[90mString\u001b[39m                  │ \u001b[90mDates.Date\u001b[39m         │ \u001b[90mFloat64\u001b[39m │ \u001b[90mDates…\u001b[39m │\n",
      "├─────┼────────┼─────────────────────────┼────────────────────┼─────────┼────────┤\n",
      "│ 1   │ 1001   │ Scrooge Investment Bank │ Date(\"2022-04-06\") │ 1210.0  │ Day(5) │\n"
     ]
    }
   ],
   "source": [
    "serialize(clientside,\"status\")"
   ]
  },
  {
   "cell_type": "code",
   "execution_count": null,
   "metadata": {},
   "outputs": [],
   "source": []
  }
 ],
 "metadata": {
  "kernelspec": {
   "display_name": "Julia 1.6.5",
   "language": "julia",
   "name": "julia-1.6"
  },
  "language_info": {
   "file_extension": ".jl",
   "mimetype": "application/julia",
   "name": "julia",
   "version": "1.6.5"
  }
 },
 "nbformat": 4,
 "nbformat_minor": 4
}
