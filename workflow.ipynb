{
 "cells": [
  {
   "cell_type": "markdown",
   "metadata": {},
   "source": [
    "# TCP Socket application with Kubernetes (microK8s) on Ubuntu 20.04\n",
    "\n",
    "\"MicroK8s is a powerful, lightweight, reliable production-ready Kubernetes distribution. It is an enterprise-grade Kubernetes distribution that has a small disk and memory footprint while offering carefully selected add-ons out-the-box, such as Istio, Knative, Grafana, Cilium and more. Whether you are running a production environment or interested in exploring K8s, MicroK8s serves your needs,\" see [Introduction to MicroK8s](https://ubuntu.com/blog/introduction-to-microk8s-part-1-2)."
   ]
  },
  {
   "cell_type": "markdown",
   "metadata": {},
   "source": [
    "### The model\n",
    "\n",
    "AccountReceivable and GeneralLedger are microservices. We use tcp socket protocol for communication.\n",
    "\n",
    "To create statefulset pods we used Suyash Mohan article [Setting up PostgreSQL Database on Kubernetes](https://medium.com/@suyashmohan/setting-up-postgresql-database-on-kubernetes-24a2a192e962) as a guideline.\n",
    "```\n",
    "                         Store\n",
    "                           ↕\n",
    "                       Counter (cnt)\n",
    "                           ↓\n",
    "    testpluto.jl        Invoice Nbr\n",
    "          ↓                ↓\n",
    "      Orders/ → AccountsReceivable (ar) → Entries → GeneralLedger (gl)\n",
    "  BankStatements           ↕                               ↕\n",
    "                         Store                           Store\n",
    "                  Unpaid/PaidInvoices            Journal/GeneralLedger\n",
    "```"
   ]
  },
  {
   "cell_type": "markdown",
   "metadata": {},
   "source": [
    "### Check whether ar-statefulset, gl-statefullset and cnt-statefullset pods are running\n",
    "\n",
    "Run the next command from the terminal:\n",
    "\n",
    "**microk8s.kubectl get pods -n socket-ns**\n",
    "\n",
    "```\n",
    "NAME                READY   STATUS    RESTARTS   AGE\n",
    "cnt-statefulset-0   2/2     Running   0          3h7m\n",
    "gl-statefulset-0    2/2     Running   0          3h7m\n",
    "cnt-statefulset-1   2/2     Running   0          3h7m\n",
    "gl-statefulset-1    2/2     Running   0          3h7m\n",
    "ar-statefulset-2    2/2     Running   0          56m\n",
    "ar-statefulset-1    2/2     Running   0          55m\n",
    "ar-statefulset-0    2/2     Running   0          54m\n",
    "```"
   ]
  },
  {
   "cell_type": "markdown",
   "metadata": {},
   "source": [
    "### If pods are not running use next commands from the terminal\n",
    "- Install microk8s: **sudo snap install microk8s --classic**\n",
    "- Enable microk8s build-in apps: **microk8s enable registry dashboard dns istio storage**\n",
    "- Clone files from GitHub: **git clone https://github.com/rbontekoe/ar.git**\n",
    "- Enter the folder with the downloaded files: **cd ar**\n",
    "- Download Julia 1.6.5: **curl -O https://julialang-s3.julialang.org/bin/linux/x64/1.6/julia-1.6.5-linux-x86_64.tar.gz**\n",
    "- Create accounts receivable image: **docker build --no-cache -f ar.Dockerfile -t localhost:32000/i_ar:v1.0.16 .**\n",
    "- Copy to local registry: **docker push localhost:32000/i_ar:v1.0.16**\n",
    "- Create general ledger image: **docker build --no-cache -f gl.Dockerfile -t localhost:32000/i_gl:v1.0.4 .**\n",
    "- Copy to local registry: **docker push localhost:32000/i_gl:v1.0.4**\n",
    "- Create counter image: **docker build --no-cache -f cnt.Dockerfile -t localhost:32000/i_cnt:v1.0.1 .**\n",
    "- Copy to local registry: **docker push localhost:32000/i_cnt:v1.0.1**\n",
    "- **microk8s.kubectl apply -f 1-ar-storage.yaml**\n",
    "- **microk8s.kubectl apply -f 2-gl-storage.yaml**\n",
    "- **microk8s.kubectl apply -f 3-cnt-storage.yaml**"
   ]
  },
  {
   "cell_type": "markdown",
   "metadata": {},
   "source": [
    "## Connect to AppliAR.jl, create and process the orders. Process the payment and display the status of the unpaid invoices."
   ]
  },
  {
   "cell_type": "code",
   "execution_count": 1,
   "metadata": {},
   "outputs": [],
   "source": [
    "import Pkg; Pkg.add(url=\"https://github.com/rbontekoe/AppliAR\")"
   ]
  },
  {
   "cell_type": "markdown",
   "metadata": {},
   "source": [
    "### Load the files"
   ]
  },
  {
   "cell_type": "code",
   "execution_count": 2,
   "metadata": {},
   "outputs": [],
   "source": [
    "using Sockets, Serialization, AppliSales, AppliAR, AppliGeneralLedger, DataFrames, Query"
   ]
  },
  {
   "cell_type": "markdown",
   "metadata": {},
   "source": [
    "### Connect to AppliAR.jl, create and process the orders"
   ]
  },
  {
   "cell_type": "code",
   "execution_count": 3,
   "metadata": {},
   "outputs": [
    {
     "data": {
      "text/plain": [
       "TCPSocket(RawFD(47) open, 0 bytes waiting)"
      ]
     },
     "execution_count": 3,
     "metadata": {},
     "output_type": "execute_result"
    }
   ],
   "source": [
    "clientside = connect(ip\"127.0.0.1\", 30012) # connect to accounts receivable pod"
   ]
  },
  {
   "cell_type": "code",
   "execution_count": 4,
   "metadata": {},
   "outputs": [
    {
     "data": {
      "text/plain": [
       "Task (runnable) @0x00007fdb570db1f0"
      ]
     },
     "execution_count": 4,
     "metadata": {},
     "output_type": "execute_result"
    }
   ],
   "source": [
    "data = \"\"\n",
    "@async while isopen(clientside)\n",
    "    global data = deserialize(clientside)\n",
    "end"
   ]
  },
  {
   "cell_type": "markdown",
   "metadata": {},
   "source": [
    "##### Remove old data files\n",
    "\n",
    "Not sure this works well. The files are removed anyway. Maybe you have to give the application it some time to recover."
   ]
  },
  {
   "cell_type": "code",
   "execution_count": 5,
   "metadata": {},
   "outputs": [],
   "source": [
    "#serialize(clientside, \"remove\")"
   ]
  },
  {
   "cell_type": "markdown",
   "metadata": {},
   "source": [
    "##### Another way to delete the old data files\n",
    "\n",
    "Go to the terminal and run the next commands (for the time being):\n",
    "\n",
    "```\n",
    "kubectl exec -it ar-statefulset-0 -n socket-ns -- bash\n",
    "cd /var/lib/postgresql/data/\n",
    "rm *\n",
    "Ctrl-D\n",
    "```"
   ]
  },
  {
   "cell_type": "markdown",
   "metadata": {},
   "source": [
    "### Process the orders"
   ]
  },
  {
   "cell_type": "code",
   "execution_count": 10,
   "metadata": {},
   "outputs": [
    {
     "data": {
      "text/plain": [
       "3-element Vector{AppliSales.Order}:\n",
       " AppliSales.Order(\"12617135954256200740\", AppliSales.Organization(\"17195848839107596417\", \"Scrooge Investment Bank\", \"1180 Seven Seas Dr\", \"FL 32830\", \"Lake Buena Vista\", \"USA\"), AppliSales.Training(\"LS\", Dates.DateTime(\"2019-08-30T00:00:00\"), 2, \"Learn Smiling\", 1000.0), \"PO-456\", \"Scrooge McDuck\", \"scrooge@duckcity.com\", [\"Scrooge McDuck\"])\n",
       " AppliSales.Order(\"12952124602184163333\", AppliSales.Organization(\"13400809309841310143\", \"Duck City Chronicals\", \"1185 Seven Seas Dr\", \"FL 32830\", \"Lake Buena Vista\", \"USA\"), AppliSales.Training(\"LS\", Dates.DateTime(\"2019-08-30T00:00:00\"), 2, \"Learn Smiling\", 1000.0), \"DD-001\", \"Mickey Mouse\", \"mickey@duckcity.com\", [\"Mini Mouse\", \"Goofy\"])\n",
       " AppliSales.Order(\"6881660196541690257\", AppliSales.Organization(\"2780878346218736152\", \"Donalds Hardware Store\", \"1190 Seven Seas Dr\", \"FL 32830\", \"Lake Buena Vista\", \"USA\"), AppliSales.Training(\"LS\", Dates.DateTime(\"2019-08-30T00:00:00\"), 2, \"Learn Smiling\", 1000.0), \"\", \"Donald Duck\", \"donald@duckcity.com\", [\"Daisy Duck\"])"
      ]
     },
     "execution_count": 10,
     "metadata": {},
     "output_type": "execute_result"
    }
   ],
   "source": [
    "# Orders to process\n",
    "sales = AppliSales.process() # create sales orders"
   ]
  },
  {
   "cell_type": "markdown",
   "metadata": {},
   "source": [
    "#### Example how to create your own orders\n",
    "```\n",
    "using Dates\n",
    "org1 = AppliSales.Organization(\"AppliGate\", \"Landweg 74\" , \"3833 VM\", \"Leusden\", \"Netherlands\")\n",
    "training1 = AppliSales.Training(\"ABC\", Dates.DateTime(\"2022-06-01T00:00:00.0\"), 2, \"MicroK8s\", 1365)\n",
    "order1 = AppliSales.Order(org1, training1, \"PO-12345\", \"Rob Bontekoe\", \"rb@a.nl\", [\"Rob Bontekoe\"])\n",
    "orders = [order1]\n",
    "serialize(clientside, orders)\n",
    "```"
   ]
  },
  {
   "cell_type": "code",
   "execution_count": 8,
   "metadata": {},
   "outputs": [],
   "source": [
    "# Run only once\n",
    "serialize(clientside, sales) # send orders to account receivable"
   ]
  },
  {
   "cell_type": "markdown",
   "metadata": {},
   "source": [
    "### Display Accounts Receivable account from General Ledger"
   ]
  },
  {
   "cell_type": "code",
   "execution_count": 10,
   "metadata": {},
   "outputs": [
    {
     "data": {
      "text/html": [
       "<table class=\"data-frame\"><thead><tr><th></th><th>accountid</th><th>customerid</th><th>invoice_nbr</th><th>debit</th><th>credit</th><th>descr</th></tr><tr><th></th><th>Int64</th><th>String</th><th>String</th><th>Float64</th><th>Float64</th><th>String</th></tr></thead><tbody><p>3 rows × 6 columns</p><tr><th>1</th><td>1300</td><td>Scrooge Investment Bank</td><td>1001</td><td>1210.0</td><td>0.0</td><td>Learn Smiling</td></tr><tr><th>2</th><td>1300</td><td>Duck City Chronicals</td><td>1002</td><td>2420.0</td><td>0.0</td><td>Learn Smiling</td></tr><tr><th>3</th><td>1300</td><td>Donalds Hardware Store</td><td>1003</td><td>1210.0</td><td>0.0</td><td>Learn Smiling</td></tr></tbody></table>"
      ],
      "text/latex": [
       "\\begin{tabular}{r|cccccc}\n",
       "\t& accountid & customerid & invoice\\_nbr & debit & credit & descr\\\\\n",
       "\t\\hline\n",
       "\t& Int64 & String & String & Float64 & Float64 & String\\\\\n",
       "\t\\hline\n",
       "\t1 & 1300 & Scrooge Investment Bank & 1001 & 1210.0 & 0.0 & Learn Smiling \\\\\n",
       "\t2 & 1300 & Duck City Chronicals & 1002 & 2420.0 & 0.0 & Learn Smiling \\\\\n",
       "\t3 & 1300 & Donalds Hardware Store & 1003 & 1210.0 & 0.0 & Learn Smiling \\\\\n",
       "\\end{tabular}\n"
      ],
      "text/plain": [
       "3×6 typename(DataFrame). Omitted printing of 1 columns\n",
       "│ Row │ accountid │ customerid              │ invoice_nbr │ debit   │ credit  │\n",
       "│     │ \u001b[90mInt64\u001b[39m     │ \u001b[90mString\u001b[39m                  │ \u001b[90mString\u001b[39m      │ \u001b[90mFloat64\u001b[39m │ \u001b[90mFloat64\u001b[39m │\n",
       "├─────┼───────────┼─────────────────────────┼─────────────┼─────────┼─────────┤\n",
       "│ 1   │ 1300      │ Scrooge Investment Bank │ 1001        │ 1210.0  │ 0.0     │\n",
       "│ 2   │ 1300      │ Duck City Chronicals    │ 1002        │ 2420.0  │ 0.0     │\n",
       "│ 3   │ 1300      │ Donalds Hardware Store  │ 1003        │ 1210.0  │ 0.0     │"
      ]
     },
     "execution_count": 10,
     "metadata": {},
     "output_type": "execute_result"
    }
   ],
   "source": [
    "serialize(clientside, \"gl-status\")\n",
    "df1 = data |> @filter(_.accountid == 1300) |> DataFrame\n",
    "df1[:, [:accountid, :customerid, :invoice_nbr, :debit, :credit, :descr]]"
   ]
  },
  {
   "cell_type": "markdown",
   "metadata": {},
   "source": [
    "### Load and process the bank statements"
   ]
  },
  {
   "cell_type": "code",
   "execution_count": 11,
   "metadata": {},
   "outputs": [
    {
     "data": {
      "text/plain": [
       "2-element Vector{BankStatement}:\n",
       " BankStatement(Dates.Date(\"2020-01-15\"), \"Duck City Chronicals Invoice 1002\", \"NL93INGB\", 2420.0)\n",
       " BankStatement(Dates.Date(\"2020-01-15\"), \"Donalds Hardware Store Bill 1003\", \"NL39INGB\", 1210.0)"
      ]
     },
     "execution_count": 11,
     "metadata": {},
     "output_type": "execute_result"
    }
   ],
   "source": [
    "# Run only once\n",
    "stms = AppliAR.read_bank_statements(\"./bank-kubernetes.csv\") # retrieve the bankstatements"
   ]
  },
  {
   "cell_type": "code",
   "execution_count": 12,
   "metadata": {},
   "outputs": [],
   "source": [
    "# Run only once\n",
    "serialize(clientside, stms) # create paid invoices and update general ledger"
   ]
  },
  {
   "cell_type": "markdown",
   "metadata": {},
   "source": [
    "### Display Accounts Receivable\n",
    "\n",
    "Other accounts are:\n",
    "\n",
    "```\n",
    "8000 - Sales\n",
    "1150 - Bank\n",
    "4000 - VAT\n",
    "1300 - Accounts Receivable\n",
    "```"
   ]
  },
  {
   "cell_type": "code",
   "execution_count": 19,
   "metadata": {},
   "outputs": [],
   "source": [
    "accountid = 1300;"
   ]
  },
  {
   "cell_type": "code",
   "execution_count": 21,
   "metadata": {},
   "outputs": [
    {
     "data": {
      "text/html": [
       "<table class=\"data-frame\"><thead><tr><th></th><th>accountid</th><th>customerid</th><th>invoice_nbr</th><th>debit</th><th>credit</th><th>descr</th></tr><tr><th></th><th>Int64</th><th>String</th><th>String</th><th>Float64</th><th>Float64</th><th>String</th></tr></thead><tbody><p>6 rows × 6 columns</p><tr><th>1</th><td>1300</td><td>Scrooge Investment Bank</td><td>1001</td><td>1210.0</td><td>0.0</td><td>Learn Smiling</td></tr><tr><th>2</th><td>1300</td><td>Duck City Chronicals</td><td>1002</td><td>2420.0</td><td>0.0</td><td>Learn Smiling</td></tr><tr><th>3</th><td>1300</td><td>Donalds Hardware Store</td><td>1003</td><td>1210.0</td><td>0.0</td><td>Learn Smiling</td></tr><tr><th>4</th><td>1300</td><td>Duck City Chronicals</td><td>1002</td><td>0.0</td><td>2420.0</td><td>Learn Smiling</td></tr><tr><th>5</th><td>1300</td><td>Donalds Hardware Store</td><td>1003</td><td>0.0</td><td>1210.0</td><td>Learn Smiling</td></tr><tr><th>6</th><td>1300</td><td>Just in Time</td><td>1004</td><td>1651.65</td><td>0.0</td><td>MicroK8s</td></tr></tbody></table>"
      ],
      "text/latex": [
       "\\begin{tabular}{r|cccccc}\n",
       "\t& accountid & customerid & invoice\\_nbr & debit & credit & descr\\\\\n",
       "\t\\hline\n",
       "\t& Int64 & String & String & Float64 & Float64 & String\\\\\n",
       "\t\\hline\n",
       "\t1 & 1300 & Scrooge Investment Bank & 1001 & 1210.0 & 0.0 & Learn Smiling \\\\\n",
       "\t2 & 1300 & Duck City Chronicals & 1002 & 2420.0 & 0.0 & Learn Smiling \\\\\n",
       "\t3 & 1300 & Donalds Hardware Store & 1003 & 1210.0 & 0.0 & Learn Smiling \\\\\n",
       "\t4 & 1300 & Duck City Chronicals & 1002 & 0.0 & 2420.0 & Learn Smiling \\\\\n",
       "\t5 & 1300 & Donalds Hardware Store & 1003 & 0.0 & 1210.0 & Learn Smiling \\\\\n",
       "\t6 & 1300 & Just in Time & 1004 & 1651.65 & 0.0 & MicroK8s \\\\\n",
       "\\end{tabular}\n"
      ],
      "text/plain": [
       "6×6 typename(DataFrame). Omitted printing of 1 columns\n",
       "│ Row │ accountid │ customerid              │ invoice_nbr │ debit   │ credit  │\n",
       "│     │ \u001b[90mInt64\u001b[39m     │ \u001b[90mString\u001b[39m                  │ \u001b[90mString\u001b[39m      │ \u001b[90mFloat64\u001b[39m │ \u001b[90mFloat64\u001b[39m │\n",
       "├─────┼───────────┼─────────────────────────┼─────────────┼─────────┼─────────┤\n",
       "│ 1   │ 1300      │ Scrooge Investment Bank │ 1001        │ 1210.0  │ 0.0     │\n",
       "│ 2   │ 1300      │ Duck City Chronicals    │ 1002        │ 2420.0  │ 0.0     │\n",
       "│ 3   │ 1300      │ Donalds Hardware Store  │ 1003        │ 1210.0  │ 0.0     │\n",
       "│ 4   │ 1300      │ Duck City Chronicals    │ 1002        │ 0.0     │ 2420.0  │\n",
       "│ 5   │ 1300      │ Donalds Hardware Store  │ 1003        │ 0.0     │ 1210.0  │\n",
       "│ 6   │ 1300      │ Just in Time            │ 1004        │ 1651.65 │ 0.0     │"
      ]
     },
     "execution_count": 21,
     "metadata": {},
     "output_type": "execute_result"
    }
   ],
   "source": [
    "serialize(clientside, \"gl-status\");\n",
    "df2 = data |> @filter(_.accountid == accountid) |> DataFrame\n",
    "df2[:, [:accountid, :customerid, :invoice_nbr, :debit, :credit, :descr]]"
   ]
  },
  {
   "cell_type": "markdown",
   "metadata": {},
   "source": [
    "### Display the status of the unpaid invoices"
   ]
  },
  {
   "cell_type": "code",
   "execution_count": 22,
   "metadata": {},
   "outputs": [],
   "source": [
    "serialize(clientside, \"status\")"
   ]
  },
  {
   "cell_type": "code",
   "execution_count": 23,
   "metadata": {},
   "outputs": [
    {
     "data": {
      "text/html": [
       "<table class=\"data-frame\"><thead><tr><th></th><th>id_inv</th><th>csm</th><th>inv_date</th><th>amount</th><th>days</th></tr><tr><th></th><th>String</th><th>String</th><th>Date</th><th>Float64</th><th>Day</th></tr></thead><tbody><p>2 rows × 5 columns</p><tr><th>1</th><td>1001</td><td>Scrooge Investment Bank</td><td>Date(\"2022-05-31\")</td><td>1210.0</td><td>Day(2)</td></tr><tr><th>2</th><td>1004</td><td>Just in Time</td><td>Date(\"2022-06-02\")</td><td>1651.65</td><td>Day(0)</td></tr></tbody></table>"
      ],
      "text/latex": [
       "\\begin{tabular}{r|ccccc}\n",
       "\t& id\\_inv & csm & inv\\_date & amount & days\\\\\n",
       "\t\\hline\n",
       "\t& String & String & Date & Float64 & Day\\\\\n",
       "\t\\hline\n",
       "\t1 & 1001 & Scrooge Investment Bank & Date(\"2022-05-31\") & 1210.0 & Day(2) \\\\\n",
       "\t2 & 1004 & Just in Time & Date(\"2022-06-02\") & 1651.65 & Day(0) \\\\\n",
       "\\end{tabular}\n"
      ],
      "text/plain": [
       "2×5 typename(DataFrame). Omitted printing of 1 columns\n",
       "│ Row │ id_inv │ csm                     │ inv_date           │ amount  │\n",
       "│     │ \u001b[90mString\u001b[39m │ \u001b[90mString\u001b[39m                  │ \u001b[90mDate\u001b[39m               │ \u001b[90mFloat64\u001b[39m │\n",
       "├─────┼────────┼─────────────────────────┼────────────────────┼─────────┤\n",
       "│ 1   │ 1001   │ Scrooge Investment Bank │ Date(\"2022-05-31\") │ 1210.0  │\n",
       "│ 2   │ 1004   │ Just in Time            │ Date(\"2022-06-02\") │ 1651.65 │"
      ]
     },
     "execution_count": 23,
     "metadata": {},
     "output_type": "execute_result"
    }
   ],
   "source": [
    "DataFrame(data)"
   ]
  },
  {
   "cell_type": "code",
   "execution_count": null,
   "metadata": {},
   "outputs": [],
   "source": []
  }
 ],
 "metadata": {
  "kernelspec": {
   "display_name": "Julia 1.6.5",
   "language": "julia",
   "name": "julia-1.6"
  },
  "language_info": {
   "file_extension": ".jl",
   "mimetype": "application/julia",
   "name": "julia",
   "version": "1.6.5"
  }
 },
 "nbformat": 4,
 "nbformat_minor": 4
}
