{
 "cells": [
  {
   "cell_type": "markdown",
   "metadata": {},
   "source": [
    "# TCP Socket application with MicroK8s on Ubuntu 20.04\n",
    "\n",
    "\"MicroK8s is a powerful, lightweight, reliable production-ready Kubernetes distribution. It is an enterprise-grade Kubernetes distribution that has a small disk and memory footprint while offering carefully selected add-ons out-the-box, such as Istio, Knative, Grafana, Cilium and more. Whether you are running a production environment or interested in exploring K8s, MicroK8s serves your needs,\" see [Introduction to MicroK8s](https://ubuntu.com/blog/introduction-to-microk8s-part-1-2)."
   ]
  },
  {
   "cell_type": "markdown",
   "metadata": {},
   "source": [
    "### The model\n",
    "\n",
    "AccountReceivable and GeneralLedger are microservices. We use tcp socket protocol for communication.\n",
    "\n",
    "To create statefulset pods we used Suyash Mohan article [Setting up PostgreSQL Database on Kubernetes](https://medium.com/@suyashmohan/setting-up-postgresql-database-on-kubernetes-24a2a192e962) as a guideline.\n",
    "```\n",
    "                         Store\n",
    "                           ↕\n",
    "                       Counter (cnt)\n",
    "                           ↓\n",
    "    testpluto.jl        Invoice Nbr\n",
    "          ↓                ↓\n",
    "      Orders/ → AccountsReceivable (ar) → Entries → GeneralLedger (gl)\n",
    "  BankStatements           ↕                               ↕\n",
    "                         Store                           Store\n",
    "                  Unpaid/PaidInvoices            Journal/GeneralLedger\n",
    "```"
   ]
  },
  {
   "cell_type": "markdown",
   "metadata": {},
   "source": [
    "### Check whether ar-statefulset, gl-statefullset and cnt-statefullset pods are running\n",
    "\n",
    "Run the next command from the terminal:\n",
    "\n",
    "**microk8s.kubectl get pods -n socket-ns**\n",
    "\n",
    "```\n",
    "NAME                READY   STATUS    RESTARTS   AGE\n",
    "cnt-statefulset-0   2/2     Running   0          160m\n",
    "gl-statefulset-0    2/2     Running   0          159m\n",
    "gl-statefulset-1    2/2     Running   0          159m\n",
    "ar-statefulset-1    2/2     Running   0          98m\n",
    "ar-statefulset-0    2/2     Running   0          97m\n",
    "```"
   ]
  },
  {
   "cell_type": "markdown",
   "metadata": {},
   "source": [
    "### If pods are not running use next commands from the terminal\n",
    "- Install microk8s: **sudo snap install microk8s --classic**\n",
    "- Enable microk8s build-in apps: **microk8s enable registry dashboard dns istio storage**\n",
    "- Clone files from GitHub: **git clone https://github.com/rbontekoe/ar.git**\n",
    "- Enter the folder with the downloaded files: **cd ar**\n",
    "- Download Julia 1.6.5: **curl -O https://julialang-s3.julialang.org/bin/linux/x64/1.6/julia-1.6.5-linux-x86_64.tar.gz**\n",
    "- Create accounts receivable image: **docker build --no-cache -f ar.Dockerfile -t localhost:32000/i_ar:v1.0.16 .**\n",
    "- Copy to local registry: **docker push localhost:32000/i_ar:v1.0.16**\n",
    "- Create general ledger image: **docker build --no-cache -f gl.Dockerfile -t localhost:32000/i_gl:v1.0.4 .**\n",
    "- Copy to local registry: **docker push localhost:32000/i_gl:v1.0.4**\n",
    "- Create counter image: **docker build --no-cache -f cnt.Dockerfile -t localhost:32000/i_cnt:v1.0.1 .**\n",
    "- Copy to local registry: **docker push localhost:32000/i_cnt:v1.0.1**\n",
    "- **microk8s.kubectl apply -f 1-ar-storage.yaml**\n",
    "- **microk8s.kubectl apply -f 2-gl-storage.yaml**\n",
    "- **microk8s.kubectl apply -f 3-cnt-storage.yaml**"
   ]
  },
  {
   "cell_type": "markdown",
   "metadata": {},
   "source": [
    "## Connect to AppliAR.jl, create and process the orders"
   ]
  },
  {
   "cell_type": "code",
   "execution_count": 9,
   "metadata": {},
   "outputs": [],
   "source": [
    "import Pkg; Pkg.add(url=\"https://github.com/rbontekoe/AppliAR\")"
   ]
  },
  {
   "cell_type": "markdown",
   "metadata": {},
   "source": [
    "### Load the files"
   ]
  },
  {
   "cell_type": "code",
   "execution_count": 10,
   "metadata": {},
   "outputs": [],
   "source": [
    "using Sockets, Serialization, AppliSales, AppliAR, AppliGeneralLedger, DataFrames, Query"
   ]
  },
  {
   "cell_type": "markdown",
   "metadata": {},
   "source": [
    "### Delete the old data files\n",
    "\n",
    "Go to the terminal and delete the next files if you want a fresh start:\n",
    "\n",
    "```\n",
    "sudo rm -f generalledger.txt paid-invoices.txt unpaid-invoices.txt journal.txt seqnbr.txt\n",
    "```"
   ]
  },
  {
   "cell_type": "markdown",
   "metadata": {},
   "source": [
    "### Connect to AppliAR.jl, create and process the orders"
   ]
  },
  {
   "cell_type": "code",
   "execution_count": 28,
   "metadata": {},
   "outputs": [
    {
     "data": {
      "text/plain": [
       "TCPSocket(RawFD(49) open, 0 bytes waiting)"
      ]
     },
     "execution_count": 28,
     "metadata": {},
     "output_type": "execute_result"
    }
   ],
   "source": [
    "clientside = connect(ip\"127.0.0.1\", 30012) # connect to accounts receivable pod"
   ]
  },
  {
   "cell_type": "code",
   "execution_count": 12,
   "metadata": {},
   "outputs": [
    {
     "data": {
      "text/plain": [
       "Task (runnable) @0x00007f063d955660"
      ]
     },
     "execution_count": 12,
     "metadata": {},
     "output_type": "execute_result"
    }
   ],
   "source": [
    "data = \"\"\n",
    "@async while isopen(clientside)\n",
    "    global data = deserialize(clientside)\n",
    "end"
   ]
  },
  {
   "cell_type": "code",
   "execution_count": 16,
   "metadata": {},
   "outputs": [],
   "source": [
    "sales = AppliSales.process() # create sales orders\n",
    "serialize(clientside, sales) # send orders to account receivable"
   ]
  },
  {
   "cell_type": "code",
   "execution_count": 17,
   "metadata": {},
   "outputs": [
    {
     "data": {
      "text/html": [
       "<table class=\"data-frame\"><thead><tr><th></th><th>id</th><th>accountid</th><th>date</th><th>customerid</th></tr><tr><th></th><th>String</th><th>Int64</th><th>Dates…</th><th>String</th></tr></thead><tbody><p>22 rows × 8 columns (omitted printing of 4 columns)</p><tr><th>1</th><td>2022-04-12-1001</td><td>1300</td><td>DateTime(\"2022-04-12T14:49:05.995\")</td><td>Scrooge Investment Bank</td></tr><tr><th>2</th><td>2022-04-12-1001</td><td>8000</td><td>DateTime(\"2022-04-12T14:49:05.995\")</td><td>Scrooge Investment Bank</td></tr><tr><th>3</th><td>2022-04-12-1001</td><td>4000</td><td>DateTime(\"2022-04-12T14:49:05.995\")</td><td>Scrooge Investment Bank</td></tr><tr><th>4</th><td>2022-04-12-1002</td><td>1300</td><td>DateTime(\"2022-04-12T14:49:05.995\")</td><td>Duck City Chronicals</td></tr><tr><th>5</th><td>2022-04-12-1002</td><td>8000</td><td>DateTime(\"2022-04-12T14:49:05.995\")</td><td>Duck City Chronicals</td></tr><tr><th>6</th><td>2022-04-12-1002</td><td>4000</td><td>DateTime(\"2022-04-12T14:49:05.995\")</td><td>Duck City Chronicals</td></tr><tr><th>7</th><td>2022-04-12-1003</td><td>1300</td><td>DateTime(\"2022-04-12T14:49:05.995\")</td><td>Donalds Hardware Store</td></tr><tr><th>8</th><td>2022-04-12-1003</td><td>8000</td><td>DateTime(\"2022-04-12T14:49:05.995\")</td><td>Donalds Hardware Store</td></tr><tr><th>9</th><td>2022-04-12-1003</td><td>4000</td><td>DateTime(\"2022-04-12T14:49:05.995\")</td><td>Donalds Hardware Store</td></tr><tr><th>10</th><td>2022-04-12-1004</td><td>1150</td><td>DateTime(\"2022-04-12T14:49:31.216\")</td><td>Duck City Chronicals</td></tr><tr><th>11</th><td>2022-04-12-1004</td><td>1300</td><td>DateTime(\"2022-04-12T14:49:31.216\")</td><td>Duck City Chronicals</td></tr><tr><th>12</th><td>2022-04-12-1005</td><td>1150</td><td>DateTime(\"2022-04-12T14:49:31.216\")</td><td>Donalds Hardware Store</td></tr><tr><th>13</th><td>2022-04-12-1005</td><td>1300</td><td>DateTime(\"2022-04-12T14:49:31.216\")</td><td>Donalds Hardware Store</td></tr><tr><th>14</th><td>2022-04-13-1001</td><td>1300</td><td>DateTime(\"2022-04-13T08:03:36.323\")</td><td>Scrooge Investment Bank</td></tr><tr><th>15</th><td>2022-04-13-1001</td><td>8000</td><td>DateTime(\"2022-04-13T08:03:36.323\")</td><td>Scrooge Investment Bank</td></tr><tr><th>16</th><td>2022-04-13-1001</td><td>4000</td><td>DateTime(\"2022-04-13T08:03:36.323\")</td><td>Scrooge Investment Bank</td></tr><tr><th>17</th><td>2022-04-13-1002</td><td>1300</td><td>DateTime(\"2022-04-13T08:03:36.323\")</td><td>Duck City Chronicals</td></tr><tr><th>18</th><td>2022-04-13-1002</td><td>8000</td><td>DateTime(\"2022-04-13T08:03:36.323\")</td><td>Duck City Chronicals</td></tr><tr><th>19</th><td>2022-04-13-1002</td><td>4000</td><td>DateTime(\"2022-04-13T08:03:36.323\")</td><td>Duck City Chronicals</td></tr><tr><th>20</th><td>2022-04-13-1003</td><td>1300</td><td>DateTime(\"2022-04-13T08:03:36.323\")</td><td>Donalds Hardware Store</td></tr><tr><th>21</th><td>2022-04-13-1003</td><td>8000</td><td>DateTime(\"2022-04-13T08:03:36.323\")</td><td>Donalds Hardware Store</td></tr><tr><th>22</th><td>2022-04-13-1003</td><td>4000</td><td>DateTime(\"2022-04-13T08:03:36.323\")</td><td>Donalds Hardware Store</td></tr></tbody></table>"
      ],
      "text/latex": [
       "\\begin{tabular}{r|ccccc}\n",
       "\t& id & accountid & date & customerid & \\\\\n",
       "\t\\hline\n",
       "\t& String & Int64 & Dates… & String & \\\\\n",
       "\t\\hline\n",
       "\t1 & 2022-04-12-1001 & 1300 & DateTime(\"2022-04-12T14:49:05.995\") & Scrooge Investment Bank & $\\dots$ \\\\\n",
       "\t2 & 2022-04-12-1001 & 8000 & DateTime(\"2022-04-12T14:49:05.995\") & Scrooge Investment Bank & $\\dots$ \\\\\n",
       "\t3 & 2022-04-12-1001 & 4000 & DateTime(\"2022-04-12T14:49:05.995\") & Scrooge Investment Bank & $\\dots$ \\\\\n",
       "\t4 & 2022-04-12-1002 & 1300 & DateTime(\"2022-04-12T14:49:05.995\") & Duck City Chronicals & $\\dots$ \\\\\n",
       "\t5 & 2022-04-12-1002 & 8000 & DateTime(\"2022-04-12T14:49:05.995\") & Duck City Chronicals & $\\dots$ \\\\\n",
       "\t6 & 2022-04-12-1002 & 4000 & DateTime(\"2022-04-12T14:49:05.995\") & Duck City Chronicals & $\\dots$ \\\\\n",
       "\t7 & 2022-04-12-1003 & 1300 & DateTime(\"2022-04-12T14:49:05.995\") & Donalds Hardware Store & $\\dots$ \\\\\n",
       "\t8 & 2022-04-12-1003 & 8000 & DateTime(\"2022-04-12T14:49:05.995\") & Donalds Hardware Store & $\\dots$ \\\\\n",
       "\t9 & 2022-04-12-1003 & 4000 & DateTime(\"2022-04-12T14:49:05.995\") & Donalds Hardware Store & $\\dots$ \\\\\n",
       "\t10 & 2022-04-12-1004 & 1150 & DateTime(\"2022-04-12T14:49:31.216\") & Duck City Chronicals & $\\dots$ \\\\\n",
       "\t11 & 2022-04-12-1004 & 1300 & DateTime(\"2022-04-12T14:49:31.216\") & Duck City Chronicals & $\\dots$ \\\\\n",
       "\t12 & 2022-04-12-1005 & 1150 & DateTime(\"2022-04-12T14:49:31.216\") & Donalds Hardware Store & $\\dots$ \\\\\n",
       "\t13 & 2022-04-12-1005 & 1300 & DateTime(\"2022-04-12T14:49:31.216\") & Donalds Hardware Store & $\\dots$ \\\\\n",
       "\t14 & 2022-04-13-1001 & 1300 & DateTime(\"2022-04-13T08:03:36.323\") & Scrooge Investment Bank & $\\dots$ \\\\\n",
       "\t15 & 2022-04-13-1001 & 8000 & DateTime(\"2022-04-13T08:03:36.323\") & Scrooge Investment Bank & $\\dots$ \\\\\n",
       "\t16 & 2022-04-13-1001 & 4000 & DateTime(\"2022-04-13T08:03:36.323\") & Scrooge Investment Bank & $\\dots$ \\\\\n",
       "\t17 & 2022-04-13-1002 & 1300 & DateTime(\"2022-04-13T08:03:36.323\") & Duck City Chronicals & $\\dots$ \\\\\n",
       "\t18 & 2022-04-13-1002 & 8000 & DateTime(\"2022-04-13T08:03:36.323\") & Duck City Chronicals & $\\dots$ \\\\\n",
       "\t19 & 2022-04-13-1002 & 4000 & DateTime(\"2022-04-13T08:03:36.323\") & Duck City Chronicals & $\\dots$ \\\\\n",
       "\t20 & 2022-04-13-1003 & 1300 & DateTime(\"2022-04-13T08:03:36.323\") & Donalds Hardware Store & $\\dots$ \\\\\n",
       "\t21 & 2022-04-13-1003 & 8000 & DateTime(\"2022-04-13T08:03:36.323\") & Donalds Hardware Store & $\\dots$ \\\\\n",
       "\t22 & 2022-04-13-1003 & 4000 & DateTime(\"2022-04-13T08:03:36.323\") & Donalds Hardware Store & $\\dots$ \\\\\n",
       "\\end{tabular}\n"
      ],
      "text/plain": [
       "22×8 typename(DataFrame). Omitted printing of 5 columns\n",
       "│ Row │ id              │ accountid │ date                                │\n",
       "│     │ \u001b[90mString\u001b[39m          │ \u001b[90mInt64\u001b[39m     │ \u001b[90mDates.DateTime\u001b[39m                      │\n",
       "├─────┼─────────────────┼───────────┼─────────────────────────────────────┤\n",
       "│ 1   │ 2022-04-12-1001 │ 1300      │ DateTime(\"2022-04-12T14:49:05.995\") │\n",
       "│ 2   │ 2022-04-12-1001 │ 8000      │ DateTime(\"2022-04-12T14:49:05.995\") │\n",
       "│ 3   │ 2022-04-12-1001 │ 4000      │ DateTime(\"2022-04-12T14:49:05.995\") │\n",
       "│ 4   │ 2022-04-12-1002 │ 1300      │ DateTime(\"2022-04-12T14:49:05.995\") │\n",
       "│ 5   │ 2022-04-12-1002 │ 8000      │ DateTime(\"2022-04-12T14:49:05.995\") │\n",
       "│ 6   │ 2022-04-12-1002 │ 4000      │ DateTime(\"2022-04-12T14:49:05.995\") │\n",
       "│ 7   │ 2022-04-12-1003 │ 1300      │ DateTime(\"2022-04-12T14:49:05.995\") │\n",
       "│ 8   │ 2022-04-12-1003 │ 8000      │ DateTime(\"2022-04-12T14:49:05.995\") │\n",
       "│ 9   │ 2022-04-12-1003 │ 4000      │ DateTime(\"2022-04-12T14:49:05.995\") │\n",
       "│ 10  │ 2022-04-12-1004 │ 1150      │ DateTime(\"2022-04-12T14:49:31.216\") │\n",
       "│ 11  │ 2022-04-12-1004 │ 1300      │ DateTime(\"2022-04-12T14:49:31.216\") │\n",
       "│ 12  │ 2022-04-12-1005 │ 1150      │ DateTime(\"2022-04-12T14:49:31.216\") │\n",
       "│ 13  │ 2022-04-12-1005 │ 1300      │ DateTime(\"2022-04-12T14:49:31.216\") │\n",
       "│ 14  │ 2022-04-13-1001 │ 1300      │ DateTime(\"2022-04-13T08:03:36.323\") │\n",
       "│ 15  │ 2022-04-13-1001 │ 8000      │ DateTime(\"2022-04-13T08:03:36.323\") │\n",
       "│ 16  │ 2022-04-13-1001 │ 4000      │ DateTime(\"2022-04-13T08:03:36.323\") │\n",
       "│ 17  │ 2022-04-13-1002 │ 1300      │ DateTime(\"2022-04-13T08:03:36.323\") │\n",
       "│ 18  │ 2022-04-13-1002 │ 8000      │ DateTime(\"2022-04-13T08:03:36.323\") │\n",
       "│ 19  │ 2022-04-13-1002 │ 4000      │ DateTime(\"2022-04-13T08:03:36.323\") │\n",
       "│ 20  │ 2022-04-13-1003 │ 1300      │ DateTime(\"2022-04-13T08:03:36.323\") │\n",
       "│ 21  │ 2022-04-13-1003 │ 8000      │ DateTime(\"2022-04-13T08:03:36.323\") │\n",
       "│ 22  │ 2022-04-13-1003 │ 4000      │ DateTime(\"2022-04-13T08:03:36.323\") │"
      ]
     },
     "execution_count": 17,
     "metadata": {},
     "output_type": "execute_result"
    }
   ],
   "source": [
    "serialize(clientside, \"gl-status\")\n",
    "DataFrame(data)"
   ]
  },
  {
   "cell_type": "markdown",
   "metadata": {},
   "source": [
    "### Load and process the bank statements"
   ]
  },
  {
   "cell_type": "code",
   "execution_count": 18,
   "metadata": {},
   "outputs": [
    {
     "data": {
      "text/plain": [
       "2-element Vector{BankStatement}:\n",
       " BankStatement(Dates.Date(\"2020-01-15\"), \"Duck City Chronicals Invoice 1002\", \"NL93INGB\", 2420.0)\n",
       " BankStatement(Dates.Date(\"2020-01-15\"), \"Donalds Hardware Store Bill 1003\", \"NL39INGB\", 1210.0)"
      ]
     },
     "execution_count": 18,
     "metadata": {},
     "output_type": "execute_result"
    }
   ],
   "source": [
    "stms = AppliAR.read_bank_statements(\"./bank-kubernetes.csv\") # retrieve the bankstatements"
   ]
  },
  {
   "cell_type": "code",
   "execution_count": 19,
   "metadata": {},
   "outputs": [],
   "source": [
    "serialize(clientside, stms) # create paid invoices and update general ledger"
   ]
  },
  {
   "cell_type": "markdown",
   "metadata": {},
   "source": [
    "### Display Accounts Receivable\n",
    "\n",
    "Other accounts are:\n",
    "\n",
    "```\n",
    "8000 - Sales\n",
    "1150 - Bank\n",
    "4000 - VAT\n",
    "1300 - Accounts Receivable\n",
    "```"
   ]
  },
  {
   "cell_type": "code",
   "execution_count": 24,
   "metadata": {},
   "outputs": [],
   "source": [
    "accountid = 1300;"
   ]
  },
  {
   "cell_type": "code",
   "execution_count": 25,
   "metadata": {},
   "outputs": [
    {
     "data": {
      "text/html": [
       "<table class=\"data-frame\"><thead><tr><th></th><th>accountid</th><th>customerid</th><th>invoice_nbr</th><th>debit</th><th>credit</th><th>descr</th></tr><tr><th></th><th>Int64</th><th>String</th><th>String</th><th>Float64</th><th>Float64</th><th>String</th></tr></thead><tbody><p>13 rows × 6 columns</p><tr><th>1</th><td>1300</td><td>Scrooge Investment Bank</td><td>1001</td><td>1210.0</td><td>0.0</td><td>Learn Smiling</td></tr><tr><th>2</th><td>1300</td><td>Duck City Chronicals</td><td>1002</td><td>2420.0</td><td>0.0</td><td>Learn Smiling</td></tr><tr><th>3</th><td>1300</td><td>Donalds Hardware Store</td><td>1003</td><td>1210.0</td><td>0.0</td><td>Learn Smiling</td></tr><tr><th>4</th><td>1300</td><td>Duck City Chronicals</td><td>1002</td><td>0.0</td><td>2420.0</td><td>Learn Smiling</td></tr><tr><th>5</th><td>1300</td><td>Donalds Hardware Store</td><td>1003</td><td>0.0</td><td>1210.0</td><td>Learn Smiling</td></tr><tr><th>6</th><td>1300</td><td>Scrooge Investment Bank</td><td>1004</td><td>1210.0</td><td>0.0</td><td>Learn Smiling</td></tr><tr><th>7</th><td>1300</td><td>Duck City Chronicals</td><td>1005</td><td>2420.0</td><td>0.0</td><td>Learn Smiling</td></tr><tr><th>8</th><td>1300</td><td>Donalds Hardware Store</td><td>1006</td><td>1210.0</td><td>0.0</td><td>Learn Smiling</td></tr><tr><th>9</th><td>1300</td><td>Scrooge Investment Bank</td><td>1007</td><td>1210.0</td><td>0.0</td><td>Learn Smiling</td></tr><tr><th>10</th><td>1300</td><td>Duck City Chronicals</td><td>1008</td><td>2420.0</td><td>0.0</td><td>Learn Smiling</td></tr><tr><th>11</th><td>1300</td><td>Donalds Hardware Store</td><td>1009</td><td>1210.0</td><td>0.0</td><td>Learn Smiling</td></tr><tr><th>12</th><td>1300</td><td>Duck City Chronicals</td><td>1002</td><td>0.0</td><td>2420.0</td><td>Learn Smiling</td></tr><tr><th>13</th><td>1300</td><td>Donalds Hardware Store</td><td>1003</td><td>0.0</td><td>1210.0</td><td>Learn Smiling</td></tr></tbody></table>"
      ],
      "text/latex": [
       "\\begin{tabular}{r|cccccc}\n",
       "\t& accountid & customerid & invoice\\_nbr & debit & credit & descr\\\\\n",
       "\t\\hline\n",
       "\t& Int64 & String & String & Float64 & Float64 & String\\\\\n",
       "\t\\hline\n",
       "\t1 & 1300 & Scrooge Investment Bank & 1001 & 1210.0 & 0.0 & Learn Smiling \\\\\n",
       "\t2 & 1300 & Duck City Chronicals & 1002 & 2420.0 & 0.0 & Learn Smiling \\\\\n",
       "\t3 & 1300 & Donalds Hardware Store & 1003 & 1210.0 & 0.0 & Learn Smiling \\\\\n",
       "\t4 & 1300 & Duck City Chronicals & 1002 & 0.0 & 2420.0 & Learn Smiling \\\\\n",
       "\t5 & 1300 & Donalds Hardware Store & 1003 & 0.0 & 1210.0 & Learn Smiling \\\\\n",
       "\t6 & 1300 & Scrooge Investment Bank & 1004 & 1210.0 & 0.0 & Learn Smiling \\\\\n",
       "\t7 & 1300 & Duck City Chronicals & 1005 & 2420.0 & 0.0 & Learn Smiling \\\\\n",
       "\t8 & 1300 & Donalds Hardware Store & 1006 & 1210.0 & 0.0 & Learn Smiling \\\\\n",
       "\t9 & 1300 & Scrooge Investment Bank & 1007 & 1210.0 & 0.0 & Learn Smiling \\\\\n",
       "\t10 & 1300 & Duck City Chronicals & 1008 & 2420.0 & 0.0 & Learn Smiling \\\\\n",
       "\t11 & 1300 & Donalds Hardware Store & 1009 & 1210.0 & 0.0 & Learn Smiling \\\\\n",
       "\t12 & 1300 & Duck City Chronicals & 1002 & 0.0 & 2420.0 & Learn Smiling \\\\\n",
       "\t13 & 1300 & Donalds Hardware Store & 1003 & 0.0 & 1210.0 & Learn Smiling \\\\\n",
       "\\end{tabular}\n"
      ],
      "text/plain": [
       "13×6 typename(DataFrame). Omitted printing of 1 columns\n",
       "│ Row │ accountid │ customerid              │ invoice_nbr │ debit   │ credit  │\n",
       "│     │ \u001b[90mInt64\u001b[39m     │ \u001b[90mString\u001b[39m                  │ \u001b[90mString\u001b[39m      │ \u001b[90mFloat64\u001b[39m │ \u001b[90mFloat64\u001b[39m │\n",
       "├─────┼───────────┼─────────────────────────┼─────────────┼─────────┼─────────┤\n",
       "│ 1   │ 1300      │ Scrooge Investment Bank │ 1001        │ 1210.0  │ 0.0     │\n",
       "│ 2   │ 1300      │ Duck City Chronicals    │ 1002        │ 2420.0  │ 0.0     │\n",
       "│ 3   │ 1300      │ Donalds Hardware Store  │ 1003        │ 1210.0  │ 0.0     │\n",
       "│ 4   │ 1300      │ Duck City Chronicals    │ 1002        │ 0.0     │ 2420.0  │\n",
       "│ 5   │ 1300      │ Donalds Hardware Store  │ 1003        │ 0.0     │ 1210.0  │\n",
       "│ 6   │ 1300      │ Scrooge Investment Bank │ 1004        │ 1210.0  │ 0.0     │\n",
       "│ 7   │ 1300      │ Duck City Chronicals    │ 1005        │ 2420.0  │ 0.0     │\n",
       "│ 8   │ 1300      │ Donalds Hardware Store  │ 1006        │ 1210.0  │ 0.0     │\n",
       "│ 9   │ 1300      │ Scrooge Investment Bank │ 1007        │ 1210.0  │ 0.0     │\n",
       "│ 10  │ 1300      │ Duck City Chronicals    │ 1008        │ 2420.0  │ 0.0     │\n",
       "│ 11  │ 1300      │ Donalds Hardware Store  │ 1009        │ 1210.0  │ 0.0     │\n",
       "│ 12  │ 1300      │ Duck City Chronicals    │ 1002        │ 0.0     │ 2420.0  │\n",
       "│ 13  │ 1300      │ Donalds Hardware Store  │ 1003        │ 0.0     │ 1210.0  │"
      ]
     },
     "execution_count": 25,
     "metadata": {},
     "output_type": "execute_result"
    }
   ],
   "source": [
    "#r2 = AppliGeneralLedger.read_from_file(\"/var/data-ar/generalledger.txt\")\n",
    "#df2 = r2 |> @filter(_.accountid == accountid) |> DataFrame\n",
    "#df2[:, [:accountid, :customerid, :invoice_nbr, :debit, :credit, :descr]]\n",
    "serialize(clientside, \"gl-status\");\n",
    "df2 = data |> @filter(_.accountid == accountid) |> DataFrame\n",
    "df2[:, [:accountid, :customerid, :invoice_nbr, :debit, :credit, :descr]]"
   ]
  },
  {
   "cell_type": "markdown",
   "metadata": {},
   "source": [
    "### Display the status of the unpaid invoices"
   ]
  },
  {
   "cell_type": "code",
   "execution_count": 33,
   "metadata": {},
   "outputs": [],
   "source": [
    "serialize(clientside, \"status\");"
   ]
  },
  {
   "cell_type": "code",
   "execution_count": 34,
   "metadata": {},
   "outputs": [
    {
     "data": {
      "text/html": [
       "<table class=\"data-frame\"><thead><tr><th></th><th>id</th><th>accountid</th><th>date</th><th>customerid</th></tr><tr><th></th><th>String</th><th>Int64</th><th>Dates…</th><th>String</th></tr></thead><tbody><p>35 rows × 8 columns (omitted printing of 4 columns)</p><tr><th>1</th><td>2022-04-12-1001</td><td>1300</td><td>DateTime(\"2022-04-12T14:49:05.995\")</td><td>Scrooge Investment Bank</td></tr><tr><th>2</th><td>2022-04-12-1001</td><td>8000</td><td>DateTime(\"2022-04-12T14:49:05.995\")</td><td>Scrooge Investment Bank</td></tr><tr><th>3</th><td>2022-04-12-1001</td><td>4000</td><td>DateTime(\"2022-04-12T14:49:05.995\")</td><td>Scrooge Investment Bank</td></tr><tr><th>4</th><td>2022-04-12-1002</td><td>1300</td><td>DateTime(\"2022-04-12T14:49:05.995\")</td><td>Duck City Chronicals</td></tr><tr><th>5</th><td>2022-04-12-1002</td><td>8000</td><td>DateTime(\"2022-04-12T14:49:05.995\")</td><td>Duck City Chronicals</td></tr><tr><th>6</th><td>2022-04-12-1002</td><td>4000</td><td>DateTime(\"2022-04-12T14:49:05.995\")</td><td>Duck City Chronicals</td></tr><tr><th>7</th><td>2022-04-12-1003</td><td>1300</td><td>DateTime(\"2022-04-12T14:49:05.995\")</td><td>Donalds Hardware Store</td></tr><tr><th>8</th><td>2022-04-12-1003</td><td>8000</td><td>DateTime(\"2022-04-12T14:49:05.995\")</td><td>Donalds Hardware Store</td></tr><tr><th>9</th><td>2022-04-12-1003</td><td>4000</td><td>DateTime(\"2022-04-12T14:49:05.995\")</td><td>Donalds Hardware Store</td></tr><tr><th>10</th><td>2022-04-12-1004</td><td>1150</td><td>DateTime(\"2022-04-12T14:49:31.216\")</td><td>Duck City Chronicals</td></tr><tr><th>11</th><td>2022-04-12-1004</td><td>1300</td><td>DateTime(\"2022-04-12T14:49:31.216\")</td><td>Duck City Chronicals</td></tr><tr><th>12</th><td>2022-04-12-1005</td><td>1150</td><td>DateTime(\"2022-04-12T14:49:31.216\")</td><td>Donalds Hardware Store</td></tr><tr><th>13</th><td>2022-04-12-1005</td><td>1300</td><td>DateTime(\"2022-04-12T14:49:31.216\")</td><td>Donalds Hardware Store</td></tr><tr><th>14</th><td>2022-04-13-1001</td><td>1300</td><td>DateTime(\"2022-04-13T08:03:36.323\")</td><td>Scrooge Investment Bank</td></tr><tr><th>15</th><td>2022-04-13-1001</td><td>8000</td><td>DateTime(\"2022-04-13T08:03:36.323\")</td><td>Scrooge Investment Bank</td></tr><tr><th>16</th><td>2022-04-13-1001</td><td>4000</td><td>DateTime(\"2022-04-13T08:03:36.323\")</td><td>Scrooge Investment Bank</td></tr><tr><th>17</th><td>2022-04-13-1002</td><td>1300</td><td>DateTime(\"2022-04-13T08:03:36.323\")</td><td>Duck City Chronicals</td></tr><tr><th>18</th><td>2022-04-13-1002</td><td>8000</td><td>DateTime(\"2022-04-13T08:03:36.323\")</td><td>Duck City Chronicals</td></tr><tr><th>19</th><td>2022-04-13-1002</td><td>4000</td><td>DateTime(\"2022-04-13T08:03:36.323\")</td><td>Duck City Chronicals</td></tr><tr><th>20</th><td>2022-04-13-1003</td><td>1300</td><td>DateTime(\"2022-04-13T08:03:36.323\")</td><td>Donalds Hardware Store</td></tr><tr><th>21</th><td>2022-04-13-1003</td><td>8000</td><td>DateTime(\"2022-04-13T08:03:36.323\")</td><td>Donalds Hardware Store</td></tr><tr><th>22</th><td>2022-04-13-1003</td><td>4000</td><td>DateTime(\"2022-04-13T08:03:36.323\")</td><td>Donalds Hardware Store</td></tr><tr><th>23</th><td>2022-04-13-1004</td><td>1300</td><td>DateTime(\"2022-04-13T08:04:18.169\")</td><td>Scrooge Investment Bank</td></tr><tr><th>24</th><td>2022-04-13-1004</td><td>8000</td><td>DateTime(\"2022-04-13T08:04:18.169\")</td><td>Scrooge Investment Bank</td></tr><tr><th>25</th><td>2022-04-13-1004</td><td>4000</td><td>DateTime(\"2022-04-13T08:04:18.169\")</td><td>Scrooge Investment Bank</td></tr><tr><th>26</th><td>2022-04-13-1005</td><td>1300</td><td>DateTime(\"2022-04-13T08:04:18.169\")</td><td>Duck City Chronicals</td></tr><tr><th>27</th><td>2022-04-13-1005</td><td>8000</td><td>DateTime(\"2022-04-13T08:04:18.169\")</td><td>Duck City Chronicals</td></tr><tr><th>28</th><td>2022-04-13-1005</td><td>4000</td><td>DateTime(\"2022-04-13T08:04:18.169\")</td><td>Duck City Chronicals</td></tr><tr><th>29</th><td>2022-04-13-1006</td><td>1300</td><td>DateTime(\"2022-04-13T08:04:18.169\")</td><td>Donalds Hardware Store</td></tr><tr><th>30</th><td>2022-04-13-1006</td><td>8000</td><td>DateTime(\"2022-04-13T08:04:18.169\")</td><td>Donalds Hardware Store</td></tr><tr><th>&vellip;</th><td>&vellip;</td><td>&vellip;</td><td>&vellip;</td><td>&vellip;</td></tr></tbody></table>"
      ],
      "text/latex": [
       "\\begin{tabular}{r|ccccc}\n",
       "\t& id & accountid & date & customerid & \\\\\n",
       "\t\\hline\n",
       "\t& String & Int64 & Dates… & String & \\\\\n",
       "\t\\hline\n",
       "\t1 & 2022-04-12-1001 & 1300 & DateTime(\"2022-04-12T14:49:05.995\") & Scrooge Investment Bank & $\\dots$ \\\\\n",
       "\t2 & 2022-04-12-1001 & 8000 & DateTime(\"2022-04-12T14:49:05.995\") & Scrooge Investment Bank & $\\dots$ \\\\\n",
       "\t3 & 2022-04-12-1001 & 4000 & DateTime(\"2022-04-12T14:49:05.995\") & Scrooge Investment Bank & $\\dots$ \\\\\n",
       "\t4 & 2022-04-12-1002 & 1300 & DateTime(\"2022-04-12T14:49:05.995\") & Duck City Chronicals & $\\dots$ \\\\\n",
       "\t5 & 2022-04-12-1002 & 8000 & DateTime(\"2022-04-12T14:49:05.995\") & Duck City Chronicals & $\\dots$ \\\\\n",
       "\t6 & 2022-04-12-1002 & 4000 & DateTime(\"2022-04-12T14:49:05.995\") & Duck City Chronicals & $\\dots$ \\\\\n",
       "\t7 & 2022-04-12-1003 & 1300 & DateTime(\"2022-04-12T14:49:05.995\") & Donalds Hardware Store & $\\dots$ \\\\\n",
       "\t8 & 2022-04-12-1003 & 8000 & DateTime(\"2022-04-12T14:49:05.995\") & Donalds Hardware Store & $\\dots$ \\\\\n",
       "\t9 & 2022-04-12-1003 & 4000 & DateTime(\"2022-04-12T14:49:05.995\") & Donalds Hardware Store & $\\dots$ \\\\\n",
       "\t10 & 2022-04-12-1004 & 1150 & DateTime(\"2022-04-12T14:49:31.216\") & Duck City Chronicals & $\\dots$ \\\\\n",
       "\t11 & 2022-04-12-1004 & 1300 & DateTime(\"2022-04-12T14:49:31.216\") & Duck City Chronicals & $\\dots$ \\\\\n",
       "\t12 & 2022-04-12-1005 & 1150 & DateTime(\"2022-04-12T14:49:31.216\") & Donalds Hardware Store & $\\dots$ \\\\\n",
       "\t13 & 2022-04-12-1005 & 1300 & DateTime(\"2022-04-12T14:49:31.216\") & Donalds Hardware Store & $\\dots$ \\\\\n",
       "\t14 & 2022-04-13-1001 & 1300 & DateTime(\"2022-04-13T08:03:36.323\") & Scrooge Investment Bank & $\\dots$ \\\\\n",
       "\t15 & 2022-04-13-1001 & 8000 & DateTime(\"2022-04-13T08:03:36.323\") & Scrooge Investment Bank & $\\dots$ \\\\\n",
       "\t16 & 2022-04-13-1001 & 4000 & DateTime(\"2022-04-13T08:03:36.323\") & Scrooge Investment Bank & $\\dots$ \\\\\n",
       "\t17 & 2022-04-13-1002 & 1300 & DateTime(\"2022-04-13T08:03:36.323\") & Duck City Chronicals & $\\dots$ \\\\\n",
       "\t18 & 2022-04-13-1002 & 8000 & DateTime(\"2022-04-13T08:03:36.323\") & Duck City Chronicals & $\\dots$ \\\\\n",
       "\t19 & 2022-04-13-1002 & 4000 & DateTime(\"2022-04-13T08:03:36.323\") & Duck City Chronicals & $\\dots$ \\\\\n",
       "\t20 & 2022-04-13-1003 & 1300 & DateTime(\"2022-04-13T08:03:36.323\") & Donalds Hardware Store & $\\dots$ \\\\\n",
       "\t21 & 2022-04-13-1003 & 8000 & DateTime(\"2022-04-13T08:03:36.323\") & Donalds Hardware Store & $\\dots$ \\\\\n",
       "\t22 & 2022-04-13-1003 & 4000 & DateTime(\"2022-04-13T08:03:36.323\") & Donalds Hardware Store & $\\dots$ \\\\\n",
       "\t23 & 2022-04-13-1004 & 1300 & DateTime(\"2022-04-13T08:04:18.169\") & Scrooge Investment Bank & $\\dots$ \\\\\n",
       "\t24 & 2022-04-13-1004 & 8000 & DateTime(\"2022-04-13T08:04:18.169\") & Scrooge Investment Bank & $\\dots$ \\\\\n",
       "\t25 & 2022-04-13-1004 & 4000 & DateTime(\"2022-04-13T08:04:18.169\") & Scrooge Investment Bank & $\\dots$ \\\\\n",
       "\t26 & 2022-04-13-1005 & 1300 & DateTime(\"2022-04-13T08:04:18.169\") & Duck City Chronicals & $\\dots$ \\\\\n",
       "\t27 & 2022-04-13-1005 & 8000 & DateTime(\"2022-04-13T08:04:18.169\") & Duck City Chronicals & $\\dots$ \\\\\n",
       "\t28 & 2022-04-13-1005 & 4000 & DateTime(\"2022-04-13T08:04:18.169\") & Duck City Chronicals & $\\dots$ \\\\\n",
       "\t29 & 2022-04-13-1006 & 1300 & DateTime(\"2022-04-13T08:04:18.169\") & Donalds Hardware Store & $\\dots$ \\\\\n",
       "\t30 & 2022-04-13-1006 & 8000 & DateTime(\"2022-04-13T08:04:18.169\") & Donalds Hardware Store & $\\dots$ \\\\\n",
       "\t$\\dots$ & $\\dots$ & $\\dots$ & $\\dots$ & $\\dots$ &  \\\\\n",
       "\\end{tabular}\n"
      ],
      "text/plain": [
       "35×8 typename(DataFrame). Omitted printing of 5 columns\n",
       "│ Row │ id              │ accountid │ date                                │\n",
       "│     │ \u001b[90mString\u001b[39m          │ \u001b[90mInt64\u001b[39m     │ \u001b[90mDates.DateTime\u001b[39m                      │\n",
       "├─────┼─────────────────┼───────────┼─────────────────────────────────────┤\n",
       "│ 1   │ 2022-04-12-1001 │ 1300      │ DateTime(\"2022-04-12T14:49:05.995\") │\n",
       "│ 2   │ 2022-04-12-1001 │ 8000      │ DateTime(\"2022-04-12T14:49:05.995\") │\n",
       "│ 3   │ 2022-04-12-1001 │ 4000      │ DateTime(\"2022-04-12T14:49:05.995\") │\n",
       "│ 4   │ 2022-04-12-1002 │ 1300      │ DateTime(\"2022-04-12T14:49:05.995\") │\n",
       "│ 5   │ 2022-04-12-1002 │ 8000      │ DateTime(\"2022-04-12T14:49:05.995\") │\n",
       "│ 6   │ 2022-04-12-1002 │ 4000      │ DateTime(\"2022-04-12T14:49:05.995\") │\n",
       "│ 7   │ 2022-04-12-1003 │ 1300      │ DateTime(\"2022-04-12T14:49:05.995\") │\n",
       "│ 8   │ 2022-04-12-1003 │ 8000      │ DateTime(\"2022-04-12T14:49:05.995\") │\n",
       "│ 9   │ 2022-04-12-1003 │ 4000      │ DateTime(\"2022-04-12T14:49:05.995\") │\n",
       "│ 10  │ 2022-04-12-1004 │ 1150      │ DateTime(\"2022-04-12T14:49:31.216\") │\n",
       "⋮\n",
       "│ 25  │ 2022-04-13-1004 │ 4000      │ DateTime(\"2022-04-13T08:04:18.169\") │\n",
       "│ 26  │ 2022-04-13-1005 │ 1300      │ DateTime(\"2022-04-13T08:04:18.169\") │\n",
       "│ 27  │ 2022-04-13-1005 │ 8000      │ DateTime(\"2022-04-13T08:04:18.169\") │\n",
       "│ 28  │ 2022-04-13-1005 │ 4000      │ DateTime(\"2022-04-13T08:04:18.169\") │\n",
       "│ 29  │ 2022-04-13-1006 │ 1300      │ DateTime(\"2022-04-13T08:04:18.169\") │\n",
       "│ 30  │ 2022-04-13-1006 │ 8000      │ DateTime(\"2022-04-13T08:04:18.169\") │\n",
       "│ 31  │ 2022-04-13-1006 │ 4000      │ DateTime(\"2022-04-13T08:04:18.169\") │\n",
       "│ 32  │ 2022-04-13-1007 │ 1150      │ DateTime(\"2022-04-13T08:04:46.722\") │\n",
       "│ 33  │ 2022-04-13-1007 │ 1300      │ DateTime(\"2022-04-13T08:04:46.722\") │\n",
       "│ 34  │ 2022-04-13-1008 │ 1150      │ DateTime(\"2022-04-13T08:04:46.722\") │\n",
       "│ 35  │ 2022-04-13-1008 │ 1300      │ DateTime(\"2022-04-13T08:04:46.722\") │"
      ]
     },
     "execution_count": 34,
     "metadata": {},
     "output_type": "execute_result"
    }
   ],
   "source": [
    "DataFrame(data)"
   ]
  },
  {
   "cell_type": "code",
   "execution_count": null,
   "metadata": {},
   "outputs": [],
   "source": []
  }
 ],
 "metadata": {
  "kernelspec": {
   "display_name": "Julia 1.6.5",
   "language": "julia",
   "name": "julia-1.6"
  },
  "language_info": {
   "file_extension": ".jl",
   "mimetype": "application/julia",
   "name": "julia",
   "version": "1.6.5"
  }
 },
 "nbformat": 4,
 "nbformat_minor": 4
}
