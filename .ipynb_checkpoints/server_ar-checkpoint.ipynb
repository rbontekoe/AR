{
 "cells": [
  {
   "cell_type": "markdown",
   "metadata": {},
   "source": [
    "# Socket connection with serialization\n",
    "\n",
    "### Server"
   ]
  },
  {
   "cell_type": "code",
   "execution_count": 1,
   "metadata": {},
   "outputs": [
    {
     "name": "stderr",
     "output_type": "stream",
     "text": [
      "\u001b[32m\u001b[1m  No Changes\u001b[22m\u001b[39m to `~/.julia/environments/v1.6/Project.toml`\n",
      "\u001b[32m\u001b[1m  No Changes\u001b[22m\u001b[39m to `~/.julia/environments/v1.6/Manifest.toml`\n",
      "┌ Info: Precompiling AppliAR [7e9bfa83-97d7-407e-9b29-58f52238cdb7]\n",
      "└ @ Base loading.jl:1317\n",
      "\u001b[33m\u001b[1m┌ \u001b[22m\u001b[39m\u001b[33m\u001b[1mWarning: \u001b[22m\u001b[39mPackage AppliAR does not have Sockets in its dependencies:\n",
      "\u001b[33m\u001b[1m│ \u001b[22m\u001b[39m- If you have AppliAR checked out for development and have\n",
      "\u001b[33m\u001b[1m│ \u001b[22m\u001b[39m  added Sockets as a dependency but haven't updated your primary\n",
      "\u001b[33m\u001b[1m│ \u001b[22m\u001b[39m  environment's manifest file, try `Pkg.resolve()`.\n",
      "\u001b[33m\u001b[1m│ \u001b[22m\u001b[39m- Otherwise you may need to report an issue with AppliAR\n",
      "\u001b[33m\u001b[1m└ \u001b[22m\u001b[39mLoading Sockets into AppliAR from project dependency, future warnings for AppliAR are suppressed.\n"
     ]
    }
   ],
   "source": [
    "using Sockets, Serialization, AppliSales, AppliAR, AppliGeneralLedger, DataFrames"
   ]
  },
  {
   "cell_type": "code",
   "execution_count": 3,
   "metadata": {},
   "outputs": [
    {
     "data": {
      "text/plain": [
       "Task (runnable) @0x00007fe269761ba0"
      ]
     },
     "execution_count": 3,
     "metadata": {},
     "output_type": "execute_result"
    }
   ],
   "source": [
    "@async begin\n",
    "    server = listen(IPv4(0), 2014)\n",
    "    while true\n",
    "        sock = accept(server)\n",
    "        @async while isopen(sock)\n",
    "            data = deserialize(sock)\n",
    "            #println(typeof(data))\n",
    "            client = connect(ip\"192.168.2.40\", 2015)\n",
    "            if data isa Vector{AppliSales.Order} && isopen(client)\n",
    "                entries = AppliAR.process(data)\n",
    "                serialize(client, entries)\n",
    "            elseif data isa Vector{BankStatement} && isopen(client)\n",
    "                unpaid_inv = AppliAR.retrieve_unpaid_invoices()\n",
    "                entries = AppliAR.process(unpaid_inv, data)\n",
    "                serialize(client, entries)\n",
    "            end\n",
    "            #client = connect(ip\"10.152.183.82\", 2001).\n",
    "        end\n",
    "    end\n",
    "end\n",
    "\n",
    "#wait(Condition())"
   ]
  },
  {
   "cell_type": "markdown",
   "metadata": {},
   "source": [
    "### Aging report"
   ]
  },
  {
   "cell_type": "code",
   "execution_count": 5,
   "metadata": {},
   "outputs": [
    {
     "ename": "LoadError",
     "evalue": "SystemError: opening file \"./test_invoicing_paid.txt\": No such file or directory",
     "output_type": "error",
     "traceback": [
      "SystemError: opening file \"./test_invoicing_paid.txt\": No such file or directory",
      "",
      "Stacktrace:",
      "  [1] systemerror(p::String, errno::Int32; extrainfo::Nothing)",
      "    @ Base ./error.jl:168",
      "  [2] #systemerror#62",
      "    @ ./error.jl:167 [inlined]",
      "  [3] systemerror",
      "    @ ./error.jl:167 [inlined]",
      "  [4] open(fname::String; lock::Bool, read::Bool, write::Nothing, create::Nothing, truncate::Nothing, append::Nothing)",
      "    @ Base ./iostream.jl:293",
      "  [5] open(fname::String, mode::String; lock::Bool)",
      "    @ Base ./iostream.jl:355",
      "  [6] open",
      "    @ ./iostream.jl:355 [inlined]",
      "  [7] read_from_file(file::String)",
      "    @ AppliAR.Infrastructure ~/.julia/packages/AppliAR/LJvlV/src/infrastructure/db.jl:15",
      "  [8] retrieve_paid_invoices(; path::String)",
      "    @ AppliAR.Infrastructure ~/.julia/packages/AppliAR/LJvlV/src/infrastructure/Infrastructure.jl:107",
      "  [9] aging(path_file_unpaid::String, path_file_paid::String)",
      "    @ AppliAR.Reporting ~/.julia/packages/AppliAR/LJvlV/src/Reporting.jl:23",
      " [10] #report#1",
      "    @ ~/.julia/packages/AppliAR/LJvlV/src/AppliAR.jl:60 [inlined]",
      " [11] report()",
      "    @ AppliAR ~/.julia/packages/AppliAR/LJvlV/src/AppliAR.jl:60",
      " [12] top-level scope",
      "    @ In[5]:1",
      " [13] eval",
      "    @ ./boot.jl:360 [inlined]",
      " [14] include_string(mapexpr::typeof(REPL.softscope), mod::Module, code::String, filename::String)",
      "    @ Base ./loading.jl:1094"
     ]
    }
   ],
   "source": [
    "r1 = AppliAR.report()\n",
    "result = DataFrame(r1)"
   ]
  },
  {
   "cell_type": "code",
   "execution_count": null,
   "metadata": {},
   "outputs": [],
   "source": []
  }
 ],
 "metadata": {
  "kernelspec": {
   "display_name": "Julia 1.6.0",
   "language": "julia",
   "name": "julia-1.6"
  },
  "language_info": {
   "file_extension": ".jl",
   "mimetype": "application/julia",
   "name": "julia",
   "version": "1.6.0"
  }
 },
 "nbformat": 4,
 "nbformat_minor": 4
}
