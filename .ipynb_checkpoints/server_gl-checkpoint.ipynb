{
 "cells": [
  {
   "cell_type": "markdown",
   "metadata": {},
   "source": [
    "# Socket connection with serialization\n",
    "\n",
    "### Server"
   ]
  },
  {
   "cell_type": "code",
   "execution_count": 3,
   "metadata": {},
   "outputs": [],
   "source": [
    "using Sockets, Serialization, AppliGeneralLedger, DataFrames, Query"
   ]
  },
  {
   "cell_type": "code",
   "execution_count": 4,
   "metadata": {},
   "outputs": [
    {
     "data": {
      "text/plain": [
       "Task (failed) @0x00007fe2c3e4f0a0\n",
       "IOError: listen: address already in use (EADDRINUSE)\n",
       "Stacktrace:\n",
       " [1] \u001b[0m\u001b[1muv_error\u001b[22m\n",
       "\u001b[90m   @ \u001b[39m\u001b[90m./\u001b[39m\u001b[90;4mlibuv.jl:97\u001b[0m\u001b[90m [inlined]\u001b[39m\n",
       " [2] \u001b[0m\u001b[1m#listen#13\u001b[22m\n",
       "\u001b[90m   @ \u001b[39m\u001b[90m/buildworker/worker/package_linux64/build/usr/share/julia/stdlib/v1.6/Sockets/src/\u001b[39m\u001b[90;4mSockets.jl:632\u001b[0m\u001b[90m [inlined]\u001b[39m\n",
       " [3] \u001b[0m\u001b[1m#listen#10\u001b[22m\n",
       "\u001b[90m   @ \u001b[39m\u001b[90m/buildworker/worker/package_linux64/build/usr/share/julia/stdlib/v1.6/Sockets/src/\u001b[39m\u001b[90;4mSockets.jl:625\u001b[0m\u001b[90m [inlined]\u001b[39m\n",
       " [4] \u001b[0m\u001b[1m#listen#12\u001b[22m\n",
       "\u001b[90m   @ \u001b[39m\u001b[90m/buildworker/worker/package_linux64/build/usr/share/julia/stdlib/v1.6/Sockets/src/\u001b[39m\u001b[90;4mSockets.jl:629\u001b[0m\u001b[90m [inlined]\u001b[39m\n",
       " [5] \u001b[0m\u001b[1mlisten\u001b[22m\n",
       "\u001b[90m   @ \u001b[39m\u001b[90m/buildworker/worker/package_linux64/build/usr/share/julia/stdlib/v1.6/Sockets/src/\u001b[39m\u001b[90;4mSockets.jl:629\u001b[0m\u001b[90m [inlined]\u001b[39m\n",
       " [6] \u001b[0m\u001b[1mmacro expansion\u001b[22m\n",
       "\u001b[90m   @ \u001b[39m\u001b[90m./\u001b[39m\u001b[90;4mIn[4]:2\u001b[0m\u001b[90m [inlined]\u001b[39m\n",
       " [7] \u001b[0m\u001b[1m(::var\"#5#7\")\u001b[22m\u001b[0m\u001b[1m(\u001b[22m\u001b[0m\u001b[1m)\u001b[22m\n",
       "\u001b[90m   @ \u001b[39m\u001b[35mMain\u001b[39m \u001b[90m./\u001b[39m\u001b[90;4mtask.jl:406\u001b[0m"
      ]
     },
     "execution_count": 4,
     "metadata": {},
     "output_type": "execute_result"
    }
   ],
   "source": [
    "@async begin\n",
    "    server = listen(IPv4(0), 2015)\n",
    "    while true\n",
    "        sock = accept(server)\n",
    "        @async while isopen(sock)\n",
    "            y = deserialize(sock)\n",
    "            AppliGeneralLedger.process(y; path_journal=\"./test_journal.txt\", path_ledger=\"./test_ledger.txt\")\n",
    "        end\n",
    "    end\n",
    "end\n",
    "\n",
    "#wait(Condition())"
   ]
  },
  {
   "cell_type": "code",
   "execution_count": 5,
   "metadata": {},
   "outputs": [
    {
     "data": {
      "text/html": [
       "<table class=\"data-frame\"><thead><tr><th></th><th>id</th><th>accountid</th><th>date</th><th>customerid</th></tr><tr><th></th><th>String</th><th>Int64</th><th>Dates…</th><th>String</th></tr></thead><tbody><p>13 rows × 8 columns (omitted printing of 4 columns)</p><tr><th>1</th><td>2021-08-20-1001</td><td>1300</td><td>DateTime(\"2021-08-20T11:31:00.884\")</td><td>Scrooge Investment Bank</td></tr><tr><th>2</th><td>2021-08-20-1001</td><td>8000</td><td>DateTime(\"2021-08-20T11:31:00.884\")</td><td>Scrooge Investment Bank</td></tr><tr><th>3</th><td>2021-08-20-1001</td><td>4000</td><td>DateTime(\"2021-08-20T11:31:00.884\")</td><td>Scrooge Investment Bank</td></tr><tr><th>4</th><td>2021-08-20-1002</td><td>1300</td><td>DateTime(\"2021-08-20T11:31:00.884\")</td><td>Duck City Chronicals</td></tr><tr><th>5</th><td>2021-08-20-1002</td><td>8000</td><td>DateTime(\"2021-08-20T11:31:00.884\")</td><td>Duck City Chronicals</td></tr><tr><th>6</th><td>2021-08-20-1002</td><td>4000</td><td>DateTime(\"2021-08-20T11:31:00.884\")</td><td>Duck City Chronicals</td></tr><tr><th>7</th><td>2021-08-20-1003</td><td>1300</td><td>DateTime(\"2021-08-20T11:31:00.884\")</td><td>Donalds Hardware Store</td></tr><tr><th>8</th><td>2021-08-20-1003</td><td>8000</td><td>DateTime(\"2021-08-20T11:31:00.884\")</td><td>Donalds Hardware Store</td></tr><tr><th>9</th><td>2021-08-20-1003</td><td>4000</td><td>DateTime(\"2021-08-20T11:31:00.884\")</td><td>Donalds Hardware Store</td></tr><tr><th>10</th><td>2021-08-20-1004</td><td>1150</td><td>DateTime(\"2021-08-20T11:33:09.707\")</td><td>Duck City Chronicals</td></tr><tr><th>11</th><td>2021-08-20-1004</td><td>1300</td><td>DateTime(\"2021-08-20T11:33:09.707\")</td><td>Duck City Chronicals</td></tr><tr><th>12</th><td>2021-08-20-1005</td><td>1150</td><td>DateTime(\"2021-08-20T11:33:09.707\")</td><td>Donalds Hardware Store</td></tr><tr><th>13</th><td>2021-08-20-1005</td><td>1300</td><td>DateTime(\"2021-08-20T11:33:09.707\")</td><td>Donalds Hardware Store</td></tr></tbody></table>"
      ],
      "text/latex": [
       "\\begin{tabular}{r|ccccc}\n",
       "\t& id & accountid & date & customerid & \\\\\n",
       "\t\\hline\n",
       "\t& String & Int64 & Dates… & String & \\\\\n",
       "\t\\hline\n",
       "\t1 & 2021-08-20-1001 & 1300 & DateTime(\"2021-08-20T11:31:00.884\") & Scrooge Investment Bank & $\\dots$ \\\\\n",
       "\t2 & 2021-08-20-1001 & 8000 & DateTime(\"2021-08-20T11:31:00.884\") & Scrooge Investment Bank & $\\dots$ \\\\\n",
       "\t3 & 2021-08-20-1001 & 4000 & DateTime(\"2021-08-20T11:31:00.884\") & Scrooge Investment Bank & $\\dots$ \\\\\n",
       "\t4 & 2021-08-20-1002 & 1300 & DateTime(\"2021-08-20T11:31:00.884\") & Duck City Chronicals & $\\dots$ \\\\\n",
       "\t5 & 2021-08-20-1002 & 8000 & DateTime(\"2021-08-20T11:31:00.884\") & Duck City Chronicals & $\\dots$ \\\\\n",
       "\t6 & 2021-08-20-1002 & 4000 & DateTime(\"2021-08-20T11:31:00.884\") & Duck City Chronicals & $\\dots$ \\\\\n",
       "\t7 & 2021-08-20-1003 & 1300 & DateTime(\"2021-08-20T11:31:00.884\") & Donalds Hardware Store & $\\dots$ \\\\\n",
       "\t8 & 2021-08-20-1003 & 8000 & DateTime(\"2021-08-20T11:31:00.884\") & Donalds Hardware Store & $\\dots$ \\\\\n",
       "\t9 & 2021-08-20-1003 & 4000 & DateTime(\"2021-08-20T11:31:00.884\") & Donalds Hardware Store & $\\dots$ \\\\\n",
       "\t10 & 2021-08-20-1004 & 1150 & DateTime(\"2021-08-20T11:33:09.707\") & Duck City Chronicals & $\\dots$ \\\\\n",
       "\t11 & 2021-08-20-1004 & 1300 & DateTime(\"2021-08-20T11:33:09.707\") & Duck City Chronicals & $\\dots$ \\\\\n",
       "\t12 & 2021-08-20-1005 & 1150 & DateTime(\"2021-08-20T11:33:09.707\") & Donalds Hardware Store & $\\dots$ \\\\\n",
       "\t13 & 2021-08-20-1005 & 1300 & DateTime(\"2021-08-20T11:33:09.707\") & Donalds Hardware Store & $\\dots$ \\\\\n",
       "\\end{tabular}\n"
      ],
      "text/plain": [
       "13×8 typename(DataFrame). Omitted printing of 5 columns\n",
       "│ Row │ id              │ accountid │ date                                │\n",
       "│     │ \u001b[90mString\u001b[39m          │ \u001b[90mInt64\u001b[39m     │ \u001b[90mDates.DateTime\u001b[39m                      │\n",
       "├─────┼─────────────────┼───────────┼─────────────────────────────────────┤\n",
       "│ 1   │ 2021-08-20-1001 │ 1300      │ DateTime(\"2021-08-20T11:31:00.884\") │\n",
       "│ 2   │ 2021-08-20-1001 │ 8000      │ DateTime(\"2021-08-20T11:31:00.884\") │\n",
       "│ 3   │ 2021-08-20-1001 │ 4000      │ DateTime(\"2021-08-20T11:31:00.884\") │\n",
       "│ 4   │ 2021-08-20-1002 │ 1300      │ DateTime(\"2021-08-20T11:31:00.884\") │\n",
       "│ 5   │ 2021-08-20-1002 │ 8000      │ DateTime(\"2021-08-20T11:31:00.884\") │\n",
       "│ 6   │ 2021-08-20-1002 │ 4000      │ DateTime(\"2021-08-20T11:31:00.884\") │\n",
       "│ 7   │ 2021-08-20-1003 │ 1300      │ DateTime(\"2021-08-20T11:31:00.884\") │\n",
       "│ 8   │ 2021-08-20-1003 │ 8000      │ DateTime(\"2021-08-20T11:31:00.884\") │\n",
       "│ 9   │ 2021-08-20-1003 │ 4000      │ DateTime(\"2021-08-20T11:31:00.884\") │\n",
       "│ 10  │ 2021-08-20-1004 │ 1150      │ DateTime(\"2021-08-20T11:33:09.707\") │\n",
       "│ 11  │ 2021-08-20-1004 │ 1300      │ DateTime(\"2021-08-20T11:33:09.707\") │\n",
       "│ 12  │ 2021-08-20-1005 │ 1150      │ DateTime(\"2021-08-20T11:33:09.707\") │\n",
       "│ 13  │ 2021-08-20-1005 │ 1300      │ DateTime(\"2021-08-20T11:33:09.707\") │"
      ]
     },
     "execution_count": 5,
     "metadata": {},
     "output_type": "execute_result"
    }
   ],
   "source": [
    "r = AppliGeneralLedger.read_from_file(\"./test_ledger.txt\")\n",
    "df = DataFrame(r)"
   ]
  },
  {
   "cell_type": "code",
   "execution_count": 6,
   "metadata": {},
   "outputs": [
    {
     "data": {
      "text/html": [
       "<table class=\"data-frame\"><thead><tr><th></th><th>accountid</th><th>customerid</th><th>invoice_nbr</th><th>debit</th><th>credit</th><th>descr</th></tr><tr><th></th><th>Int64</th><th>String</th><th>String</th><th>Float64</th><th>Float64</th><th>String</th></tr></thead><tbody><p>5 rows × 6 columns</p><tr><th>1</th><td>1300</td><td>Scrooge Investment Bank</td><td>A-1001</td><td>1210.0</td><td>0.0</td><td>Learn Smiling</td></tr><tr><th>2</th><td>1300</td><td>Duck City Chronicals</td><td>A-1002</td><td>2420.0</td><td>0.0</td><td>Learn Smiling</td></tr><tr><th>3</th><td>1300</td><td>Donalds Hardware Store</td><td>A-1003</td><td>1210.0</td><td>0.0</td><td>Learn Smiling</td></tr><tr><th>4</th><td>1300</td><td>Duck City Chronicals</td><td>A-1002</td><td>0.0</td><td>2420.0</td><td>Learn Smiling</td></tr><tr><th>5</th><td>1300</td><td>Donalds Hardware Store</td><td>A-1003</td><td>0.0</td><td>1210.0</td><td>Learn Smiling</td></tr></tbody></table>"
      ],
      "text/latex": [
       "\\begin{tabular}{r|cccccc}\n",
       "\t& accountid & customerid & invoice\\_nbr & debit & credit & descr\\\\\n",
       "\t\\hline\n",
       "\t& Int64 & String & String & Float64 & Float64 & String\\\\\n",
       "\t\\hline\n",
       "\t1 & 1300 & Scrooge Investment Bank & A-1001 & 1210.0 & 0.0 & Learn Smiling \\\\\n",
       "\t2 & 1300 & Duck City Chronicals & A-1002 & 2420.0 & 0.0 & Learn Smiling \\\\\n",
       "\t3 & 1300 & Donalds Hardware Store & A-1003 & 1210.0 & 0.0 & Learn Smiling \\\\\n",
       "\t4 & 1300 & Duck City Chronicals & A-1002 & 0.0 & 2420.0 & Learn Smiling \\\\\n",
       "\t5 & 1300 & Donalds Hardware Store & A-1003 & 0.0 & 1210.0 & Learn Smiling \\\\\n",
       "\\end{tabular}\n"
      ],
      "text/plain": [
       "5×6 typename(DataFrame). Omitted printing of 1 columns\n",
       "│ Row │ accountid │ customerid              │ invoice_nbr │ debit   │ credit  │\n",
       "│     │ \u001b[90mInt64\u001b[39m     │ \u001b[90mString\u001b[39m                  │ \u001b[90mString\u001b[39m      │ \u001b[90mFloat64\u001b[39m │ \u001b[90mFloat64\u001b[39m │\n",
       "├─────┼───────────┼─────────────────────────┼─────────────┼─────────┼─────────┤\n",
       "│ 1   │ 1300      │ Scrooge Investment Bank │ A-1001      │ 1210.0  │ 0.0     │\n",
       "│ 2   │ 1300      │ Duck City Chronicals    │ A-1002      │ 2420.0  │ 0.0     │\n",
       "│ 3   │ 1300      │ Donalds Hardware Store  │ A-1003      │ 1210.0  │ 0.0     │\n",
       "│ 4   │ 1300      │ Duck City Chronicals    │ A-1002      │ 0.0     │ 2420.0  │\n",
       "│ 5   │ 1300      │ Donalds Hardware Store  │ A-1003      │ 0.0     │ 1210.0  │"
      ]
     },
     "execution_count": 6,
     "metadata": {},
     "output_type": "execute_result"
    }
   ],
   "source": [
    "df2 = r |> @filter(_.accountid == 1300) |> DataFrame\n",
    "df2[:, [:accountid, :customerid, :invoice_nbr, :debit, :credit, :descr]]"
   ]
  },
  {
   "cell_type": "code",
   "execution_count": null,
   "metadata": {},
   "outputs": [],
   "source": []
  }
 ],
 "metadata": {
  "kernelspec": {
   "display_name": "Julia 1.6.0",
   "language": "julia",
   "name": "julia-1.6"
  },
  "language_info": {
   "file_extension": ".jl",
   "mimetype": "application/julia",
   "name": "julia",
   "version": "1.6.0"
  }
 },
 "nbformat": 4,
 "nbformat_minor": 4
}
