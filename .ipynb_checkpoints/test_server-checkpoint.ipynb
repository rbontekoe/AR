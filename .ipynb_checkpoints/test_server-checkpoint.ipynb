{
 "cells": [
  {
   "cell_type": "code",
   "execution_count": 1,
   "metadata": {},
   "outputs": [],
   "source": [
    "using Serialization, Sockets"
   ]
  },
  {
   "cell_type": "code",
   "execution_count": 2,
   "metadata": {},
   "outputs": [
    {
     "data": {
      "text/plain": [
       "Task (runnable) @0x00007f55f5a4a4d0"
      ]
     },
     "execution_count": 2,
     "metadata": {},
     "output_type": "execute_result"
    },
    {
     "name": "stdout",
     "output_type": "stream",
     "text": [
      "status\n"
     ]
    }
   ],
   "source": [
    "@async begin\n",
    "    server = listen(IPv4(0), 3002)\n",
    "    while true\n",
    "        sock = accept(server)\n",
    "        @async while isopen(sock)\n",
    "            data = deserialize(sock)\n",
    "            if data isa String && data == \"status\"\n",
    "                #aging_report = AppliAR.aging(\"/var/lib/postgresql/data/unpaid-invoices.txt\", \"/var/lib/postgresql/data/paid-invoices.txt\")\n",
    "                println(data)\n",
    "                #write(sock, uppercase(readline(sock, keep=true)))\n",
    "                serialize(sock, uppercase(\"Hello world!!!\"))\n",
    "            end\n",
    "        end   \n",
    "    end\n",
    "end"
   ]
  },
  {
   "cell_type": "code",
   "execution_count": null,
   "metadata": {},
   "outputs": [],
   "source": []
  }
 ],
 "metadata": {
  "kernelspec": {
   "display_name": "Julia 1.6.5",
   "language": "julia",
   "name": "julia-1.6"
  },
  "language_info": {
   "file_extension": ".jl",
   "mimetype": "application/julia",
   "name": "julia",
   "version": "1.6.5"
  }
 },
 "nbformat": 4,
 "nbformat_minor": 4
}
