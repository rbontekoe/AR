{
 "cells": [
  {
   "cell_type": "code",
   "execution_count": 1,
   "metadata": {},
   "outputs": [],
   "source": [
    "import Pkg; Pkg.add(url=\"https://github.com/rbontekoe/AppliAR\")"
   ]
  },
  {
   "cell_type": "code",
   "execution_count": 2,
   "metadata": {},
   "outputs": [],
   "source": [
    "using Sockets, Serialization, AppliSales, AppliAR, AppliGeneralLedger, DataFrames, Query"
   ]
  },
  {
   "cell_type": "code",
   "execution_count": 3,
   "metadata": {},
   "outputs": [
    {
     "data": {
      "text/plain": [
       "Task (runnable) @0x00007fa9cd1ec2b0"
      ]
     },
     "execution_count": 3,
     "metadata": {},
     "output_type": "execute_result"
    }
   ],
   "source": [
    "@async begin\n",
    "    server = listen(IPv4(0), 3002)\n",
    "    while true\n",
    "        sock = accept(server)\n",
    "        @async while isopen(sock)\n",
    "            data = deserialize(sock)\n",
    "            if data isa String && data == \"status\"\n",
    "                println(data)\n",
    "                #aging_report = AppliAR.aging(\"/var/lib/postgresql/data/unpaid-invoices.txt\", \"/var/lib/postgresql/data/paid-invoices.txt\")\n",
    "                aging_report = AppliAR.aging(\"/var/data-ar/unpaid-invoices.txt\", \"/var/data-ar/paid-invoices.txt\")\n",
    "                serialize(sock, aging_report)\n",
    "            end\n",
    "        end   \n",
    "    end\n",
    "end"
   ]
  },
  {
   "cell_type": "code",
   "execution_count": null,
   "metadata": {},
   "outputs": [],
   "source": []
  }
 ],
 "metadata": {
  "kernelspec": {
   "display_name": "Julia 1.6.5",
   "language": "julia",
   "name": "julia-1.6"
  },
  "language_info": {
   "file_extension": ".jl",
   "mimetype": "application/julia",
   "name": "julia",
   "version": "1.6.5"
  }
 },
 "nbformat": 4,
 "nbformat_minor": 4
}
