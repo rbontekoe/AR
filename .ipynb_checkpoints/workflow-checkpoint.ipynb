{
 "cells": [
  {
   "cell_type": "markdown",
   "metadata": {},
   "source": [
    "# TCP Socket application with MicroK8s on Ubuntu 20.04\n",
    "\n",
    "\"MicroK8s is a powerful, lightweight, reliable production-ready Kubernetes distribution. It is an enterprise-grade Kubernetes distribution that has a small disk and memory footprint while offering carefully selected add-ons out-the-box, such as Istio, Knative, Grafana, Cilium and more. Whether you are running a production environment or interested in exploring K8s, MicroK8s serves your needs,\" see [Introduction to MicroK8s](https://ubuntu.com/blog/introduction-to-microk8s-part-1-2)."
   ]
  },
  {
   "cell_type": "markdown",
   "metadata": {},
   "source": [
    "### The model\n",
    "\n",
    "AccountReceivable and GeneralLedger are microservices. We use tcp socket protocol for communication.\n",
    "\n",
    "To create statefulset pods we used Suyash Mohan article [Setting up PostgreSQL Database on Kubernetes](https://medium.com/@suyashmohan/setting-up-postgresql-database-on-kubernetes-24a2a192e962) as a guideline.\n",
    "```\n",
    "                         Store\n",
    "                           ↕\n",
    "                       Counter (cnt)\n",
    "                           ↓\n",
    "    testpluto.jl        Invoice Nbr\n",
    "          ↓                ↓\n",
    "      Orders/ → AccountsReceivable (ar) → Entries → GeneralLedger (gl)\n",
    "  BankStatements           ↕                               ↕\n",
    "                         Store                           Store\n",
    "                  Unpaid/PaidInvoices            Journal/GeneralLedger\n",
    "```"
   ]
  },
  {
   "cell_type": "markdown",
   "metadata": {},
   "source": [
    "### Check whether ar-statefulset, gl-statefullset and cnt-statefullset pods are running\n",
    "\n",
    "Run the next command from the terminal:\n",
    "\n",
    "**microk8s.kubectl get pods -n socket-ns**\n",
    "\n",
    "```\n",
    "NAME                READY   STATUS    RESTARTS   AGE\n",
    "cnt-statefulset-0   2/2     Running   0          160m\n",
    "gl-statefulset-0    2/2     Running   0          159m\n",
    "gl-statefulset-1    2/2     Running   0          159m\n",
    "ar-statefulset-1    2/2     Running   0          98m\n",
    "ar-statefulset-0    2/2     Running   0          97m\n",
    "```"
   ]
  },
  {
   "cell_type": "markdown",
   "metadata": {},
   "source": [
    "### If pods are not running use next commands from the terminal\n",
    "- Install microk8s: **sudo snap install microk8s --classic**\n",
    "- Enable microk8s build-in apps: **microk8s enable registry dashboard dns istio storage**\n",
    "- Clone files from GitHub: **git clone https://github.com/rbontekoe/ar.git**\n",
    "- Enter the folder with the downloaded files: **cd ar**\n",
    "- Download Julia 1.6.5: **curl -O https://julialang-s3.julialang.org/bin/linux/x64/1.6/julia-1.6.5-linux-x86_64.tar.gz**\n",
    "- Create accounts receivable image: **docker build --no-cache -f ar.Dockerfile -t localhost:32000/i_ar:v1.0.16 .**\n",
    "- Copy to local registry: **docker push localhost:32000/i_ar:v1.0.16**\n",
    "- Create general ledger image: **docker build --no-cache -f gl.Dockerfile -t localhost:32000/i_gl:v1.0.4 .**\n",
    "- Copy to local registry: **docker push localhost:32000/i_gl:v1.0.4**\n",
    "- Create counter image: **docker build --no-cache -f cnt.Dockerfile -t localhost:32000/i_cnt:v1.0.1 .**\n",
    "- Copy to local registry: **docker push localhost:32000/i_cnt:v1.0.1**\n",
    "- **microk8s.kubectl apply -f 1-ar-storage.yaml**\n",
    "- **microk8s.kubectl apply -f 2-gl-storage.yaml**\n",
    "- **microk8s.kubectl apply -f 3-cnt-storage.yaml**"
   ]
  },
  {
   "cell_type": "markdown",
   "metadata": {},
   "source": [
    "## Connect to AppliAR.jl, create and process the orders"
   ]
  },
  {
   "cell_type": "code",
   "execution_count": 1,
   "metadata": {},
   "outputs": [],
   "source": [
    "import Pkg; Pkg.add(url=\"https://github.com/rbontekoe/AppliAR\")"
   ]
  },
  {
   "cell_type": "markdown",
   "metadata": {},
   "source": [
    "### Load the files"
   ]
  },
  {
   "cell_type": "code",
   "execution_count": 2,
   "metadata": {},
   "outputs": [],
   "source": [
    "using Sockets, Serialization, AppliSales, AppliAR, AppliGeneralLedger, DataFrames, Query"
   ]
  },
  {
   "cell_type": "markdown",
   "metadata": {},
   "source": [
    "### Delete the old data files\n",
    "\n",
    "Go to the terminal and delete the next files if you want a fresh start:\n",
    "\n",
    "```\n",
    "sudo rm -f generalledger.txt paid-invoices.txt unpaid-invoices.txt journal.txt seqnbr.txt\n",
    "```"
   ]
  },
  {
   "cell_type": "markdown",
   "metadata": {},
   "source": [
    "### Connect to AppliAR.jl, create and process the orders"
   ]
  },
  {
   "cell_type": "code",
   "execution_count": 3,
   "metadata": {},
   "outputs": [
    {
     "data": {
      "text/plain": [
       "TCPSocket(RawFD(47) open, 0 bytes waiting)"
      ]
     },
     "execution_count": 3,
     "metadata": {},
     "output_type": "execute_result"
    }
   ],
   "source": [
    "clientside = connect(ip\"127.0.0.1\", 30012) # connect to accounts receivable pod"
   ]
  },
  {
   "cell_type": "code",
   "execution_count": 5,
   "metadata": {},
   "outputs": [
    {
     "data": {
      "text/plain": [
       "3-element Vector{AppliSales.Order}:\n",
       " AppliSales.Order(\"6580114542795066027\", AppliSales.Organization(\"2851573410813524585\", \"Scrooge Investment Bank\", \"1180 Seven Seas Dr\", \"FL 32830\", \"Lake Buena Vista\", \"USA\"), AppliSales.Training(\"LS\", Dates.DateTime(\"2019-08-30T00:00:00\"), 2, \"Learn Smiling\", 1000.0), \"PO-456\", \"Scrooge McDuck\", \"scrooge@duckcity.com\", [\"Scrooge McDuck\"])\n",
       " AppliSales.Order(\"11154770291101458888\", AppliSales.Organization(\"7774017675412810092\", \"Duck City Chronicals\", \"1185 Seven Seas Dr\", \"FL 32830\", \"Lake Buena Vista\", \"USA\"), AppliSales.Training(\"LS\", Dates.DateTime(\"2019-08-30T00:00:00\"), 2, \"Learn Smiling\", 1000.0), \"DD-001\", \"Mickey Mouse\", \"mickey@duckcity.com\", [\"Mini Mouse\", \"Goofy\"])\n",
       " AppliSales.Order(\"9063461459514640175\", AppliSales.Organization(\"17844125094850139404\", \"Donalds Hardware Store\", \"1190 Seven Seas Dr\", \"FL 32830\", \"Lake Buena Vista\", \"USA\"), AppliSales.Training(\"LS\", Dates.DateTime(\"2019-08-30T00:00:00\"), 2, \"Learn Smiling\", 1000.0), \"\", \"Donald Duck\", \"donald@duckcity.com\", [\"Daisy Duck\"])"
      ]
     },
     "execution_count": 5,
     "metadata": {},
     "output_type": "execute_result"
    }
   ],
   "source": [
    "sales = AppliSales.process() # create sales orders"
   ]
  },
  {
   "cell_type": "code",
   "execution_count": 6,
   "metadata": {},
   "outputs": [],
   "source": [
    "serialize(clientside, sales) # send orders to account receivable"
   ]
  },
  {
   "cell_type": "code",
   "execution_count": 24,
   "metadata": {
    "scrolled": true
   },
   "outputs": [
    {
     "ename": "LoadError",
     "evalue": "SystemError: opening file \"/var/data-ar/generalledger.txt\": No such file or directory",
     "output_type": "error",
     "traceback": [
      "SystemError: opening file \"/var/data-ar/generalledger.txt\": No such file or directory",
      "",
      "Stacktrace:",
      "  [1] systemerror(p::String, errno::Int32; extrainfo::Nothing)",
      "    @ Base ./error.jl:168",
      "  [2] #systemerror#62",
      "    @ ./error.jl:167 [inlined]",
      "  [3] systemerror",
      "    @ ./error.jl:167 [inlined]",
      "  [4] open(fname::String; lock::Bool, read::Bool, write::Nothing, create::Nothing, truncate::Nothing, append::Nothing)",
      "    @ Base ./iostream.jl:293",
      "  [5] open(fname::String, mode::String; lock::Bool)",
      "    @ Base ./iostream.jl:355",
      "  [6] open",
      "    @ ./iostream.jl:355 [inlined]",
      "  [7] read_from_file(file::String)",
      "    @ AppliGeneralLedger ~/.julia/packages/AppliGeneralLedger/hRYNF/src/infrastructure/db.jl:15",
      "  [8] top-level scope",
      "    @ In[24]:1",
      "  [9] eval",
      "    @ ./boot.jl:360 [inlined]",
      " [10] include_string(mapexpr::typeof(REPL.softscope), mod::Module, code::String, filename::String)",
      "    @ Base ./loading.jl:1116"
     ]
    }
   ],
   "source": [
    "r0 = AppliGeneralLedger.read_from_file(\"/var/data-ar/generalledger.txt\")\n",
    "df1 = r0 |> @filter(_.accountid == 1300) |> DataFrame\n",
    "df1[:, [:accountid, :customerid, :invoice_nbr, :debit, :credit, :descr]]"
   ]
  },
  {
   "cell_type": "markdown",
   "metadata": {},
   "source": [
    "### Load and process the bank statements"
   ]
  },
  {
   "cell_type": "code",
   "execution_count": 7,
   "metadata": {},
   "outputs": [
    {
     "data": {
      "text/plain": [
       "2-element Vector{BankStatement}:\n",
       " BankStatement(Dates.Date(\"2020-01-15\"), \"Duck City Chronicals Invoice 1002\", \"NL93INGB\", 2420.0)\n",
       " BankStatement(Dates.Date(\"2020-01-15\"), \"Donalds Hardware Store Bill 1003\", \"NL39INGB\", 1210.0)"
      ]
     },
     "execution_count": 7,
     "metadata": {},
     "output_type": "execute_result"
    }
   ],
   "source": [
    "stms = AppliAR.read_bank_statements(\"./bank-kubernetes.csv\") # retrieve the bankstatements"
   ]
  },
  {
   "cell_type": "code",
   "execution_count": 8,
   "metadata": {},
   "outputs": [],
   "source": [
    "serialize(clientside, stms) # create paid invoices and update general ledger"
   ]
  },
  {
   "cell_type": "markdown",
   "metadata": {},
   "source": [
    "### Display Accounts Receivable\n",
    "\n",
    "Other accounts are:\n",
    "\n",
    "```\n",
    "8000 - Sales\n",
    "1150 - Bank\n",
    "4000 - VAT\n",
    "1300 - Accounts Receivable\n",
    "```"
   ]
  },
  {
   "cell_type": "code",
   "execution_count": 9,
   "metadata": {},
   "outputs": [],
   "source": [
    "accountid = 1300;"
   ]
  },
  {
   "cell_type": "code",
   "execution_count": 10,
   "metadata": {},
   "outputs": [
    {
     "ename": "LoadError",
     "evalue": "SystemError: opening file \"/var/data-ar/generalledger.txt\": No such file or directory",
     "output_type": "error",
     "traceback": [
      "SystemError: opening file \"/var/data-ar/generalledger.txt\": No such file or directory",
      "",
      "Stacktrace:",
      "  [1] systemerror(p::String, errno::Int32; extrainfo::Nothing)",
      "    @ Base ./error.jl:168",
      "  [2] #systemerror#62",
      "    @ ./error.jl:167 [inlined]",
      "  [3] systemerror",
      "    @ ./error.jl:167 [inlined]",
      "  [4] open(fname::String; lock::Bool, read::Bool, write::Nothing, create::Nothing, truncate::Nothing, append::Nothing)",
      "    @ Base ./iostream.jl:293",
      "  [5] open(fname::String, mode::String; lock::Bool)",
      "    @ Base ./iostream.jl:355",
      "  [6] open",
      "    @ ./iostream.jl:355 [inlined]",
      "  [7] read_from_file(file::String)",
      "    @ AppliGeneralLedger ~/.julia/packages/AppliGeneralLedger/hRYNF/src/infrastructure/db.jl:15",
      "  [8] top-level scope",
      "    @ In[10]:1",
      "  [9] eval",
      "    @ ./boot.jl:360 [inlined]",
      " [10] include_string(mapexpr::typeof(REPL.softscope), mod::Module, code::String, filename::String)",
      "    @ Base ./loading.jl:1116"
     ]
    }
   ],
   "source": [
    "r2 = AppliGeneralLedger.read_from_file(\"/var/data-ar/generalledger.txt\")\n",
    "df2 = r2 |> @filter(_.accountid == accountid) |> DataFrame\n",
    "df2[:, [:accountid, :customerid, :invoice_nbr, :debit, :credit, :descr]]"
   ]
  },
  {
   "cell_type": "markdown",
   "metadata": {},
   "source": [
    "### Display the status of the unpaid invoices"
   ]
  },
  {
   "cell_type": "code",
   "execution_count": 7,
   "metadata": {},
   "outputs": [
    {
     "data": {
      "text/html": [
       "<table class=\"data-frame\"><thead><tr><th></th><th>id_inv</th><th>csm</th><th>inv_date</th><th>amount</th><th>days</th></tr><tr><th></th><th>String</th><th>String</th><th>Dates…</th><th>Float64</th><th>Dates…</th></tr></thead><tbody><p>1 rows × 5 columns</p><tr><th>1</th><td>1001</td><td>Scrooge Investment Bank</td><td>Date(\"2022-04-06\")</td><td>1210.0</td><td>Day(4)</td></tr></tbody></table>"
      ],
      "text/latex": [
       "\\begin{tabular}{r|ccccc}\n",
       "\t& id\\_inv & csm & inv\\_date & amount & days\\\\\n",
       "\t\\hline\n",
       "\t& String & String & Dates… & Float64 & Dates…\\\\\n",
       "\t\\hline\n",
       "\t1 & 1001 & Scrooge Investment Bank & Date(\"2022-04-06\") & 1210.0 & Day(4) \\\\\n",
       "\\end{tabular}\n"
      ],
      "text/plain": [
       "1×5 typename(DataFrame). Omitted printing of 1 columns\n",
       "│ Row │ id_inv │ csm                     │ inv_date           │ amount  │\n",
       "│     │ \u001b[90mString\u001b[39m │ \u001b[90mString\u001b[39m                  │ \u001b[90mDates.Date\u001b[39m         │ \u001b[90mFloat64\u001b[39m │\n",
       "├─────┼────────┼─────────────────────────┼────────────────────┼─────────┤\n",
       "│ 1   │ 1001   │ Scrooge Investment Bank │ Date(\"2022-04-06\") │ 1210.0  │"
      ]
     },
     "execution_count": 7,
     "metadata": {},
     "output_type": "execute_result"
    }
   ],
   "source": [
    "#r1 = AppliAR.aging(\"/var/data-ar/unpaid-invoices.txt\", \"/var/data-ar/paid-invoices.txt\")\n",
    "#result = DataFrame(r1)"
   ]
  },
  {
   "cell_type": "code",
   "execution_count": 9,
   "metadata": {},
   "outputs": [
    {
     "data": {
      "text/plain": [
       "TCPSocket(RawFD(48) open, 0 bytes waiting)"
      ]
     },
     "execution_count": 9,
     "metadata": {},
     "output_type": "execute_result"
    }
   ],
   "source": [
    "clientside = connect(ip\"127.0.0.1\", 30012) # connect to accounts receivable pod"
   ]
  },
  {
   "cell_type": "code",
   "execution_count": 7,
   "metadata": {},
   "outputs": [
    {
     "data": {
      "text/plain": [
       "Task (runnable) @0x00007fa1ce77da50"
      ]
     },
     "execution_count": 7,
     "metadata": {},
     "output_type": "execute_result"
    }
   ],
   "source": [
    "data = \"\"\n",
    "@async while isopen(clientside)\n",
    "    global data = deserialize(clientside)\n",
    "    #if data != \"\"  \n",
    "      #println(DataFrame(data))\n",
    "    #else\n",
    "      #println(\"NOT OK\")\n",
    "    #end\n",
    "end"
   ]
  },
  {
   "cell_type": "code",
   "execution_count": 8,
   "metadata": {},
   "outputs": [
    {
     "name": "stdout",
     "output_type": "stream",
     "text": [
      "1×5 typename(DataFrame)\n",
      "│ Row │ id_inv │ csm                     │ inv_date           │ amount  │ days   │\n",
      "│     │ \u001b[90mString\u001b[39m │ \u001b[90mString\u001b[39m                  │ \u001b[90mDates.Date\u001b[39m         │ \u001b[90mFloat64\u001b[39m │ \u001b[90mDates…\u001b[39m │\n",
      "├─────┼────────┼─────────────────────────┼────────────────────┼─────────┼────────┤\n",
      "│ 1   │ 1001   │ Scrooge Investment Bank │ Date(\"2022-04-12\") │ 1210.0  │ Day(0) │\n"
     ]
    }
   ],
   "source": [
    "serialize(clientside, \"status\");"
   ]
  },
  {
   "cell_type": "code",
   "execution_count": 9,
   "metadata": {},
   "outputs": [
    {
     "data": {
      "text/html": [
       "<table class=\"data-frame\"><thead><tr><th></th><th>id_inv</th><th>csm</th><th>inv_date</th><th>amount</th><th>days</th></tr><tr><th></th><th>String</th><th>String</th><th>Dates…</th><th>Float64</th><th>Dates…</th></tr></thead><tbody><p>1 rows × 5 columns</p><tr><th>1</th><td>1001</td><td>Scrooge Investment Bank</td><td>Date(\"2022-04-12\")</td><td>1210.0</td><td>Day(0)</td></tr></tbody></table>"
      ],
      "text/latex": [
       "\\begin{tabular}{r|ccccc}\n",
       "\t& id\\_inv & csm & inv\\_date & amount & days\\\\\n",
       "\t\\hline\n",
       "\t& String & String & Dates… & Float64 & Dates…\\\\\n",
       "\t\\hline\n",
       "\t1 & 1001 & Scrooge Investment Bank & Date(\"2022-04-12\") & 1210.0 & Day(0) \\\\\n",
       "\\end{tabular}\n"
      ],
      "text/plain": [
       "1×5 typename(DataFrame). Omitted printing of 1 columns\n",
       "│ Row │ id_inv │ csm                     │ inv_date           │ amount  │\n",
       "│     │ \u001b[90mString\u001b[39m │ \u001b[90mString\u001b[39m                  │ \u001b[90mDates.Date\u001b[39m         │ \u001b[90mFloat64\u001b[39m │\n",
       "├─────┼────────┼─────────────────────────┼────────────────────┼─────────┤\n",
       "│ 1   │ 1001   │ Scrooge Investment Bank │ Date(\"2022-04-12\") │ 1210.0  │"
      ]
     },
     "execution_count": 9,
     "metadata": {},
     "output_type": "execute_result"
    }
   ],
   "source": [
    "DataFrame(data)"
   ]
  },
  {
   "cell_type": "code",
   "execution_count": null,
   "metadata": {},
   "outputs": [],
   "source": []
  }
 ],
 "metadata": {
  "kernelspec": {
   "display_name": "Julia 1.6.5",
   "language": "julia",
   "name": "julia-1.6"
  },
  "language_info": {
   "file_extension": ".jl",
   "mimetype": "application/julia",
   "name": "julia",
   "version": "1.6.5"
  }
 },
 "nbformat": 4,
 "nbformat_minor": 4
}
