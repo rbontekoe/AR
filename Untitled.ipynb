{
 "cells": [
  {
   "cell_type": "markdown",
   "metadata": {},
   "source": [
    "# TCP Socket application with MicroK8s on Ubuntu 20.04\n",
    "\n",
    "\"MicroK8s is a powerful, lightweight, reliable production-ready Kubernetes distribution. It is an enterprise-grade Kubernetes distribution that has a small disk and memory footprint while offering carefully selected add-ons out-the-box, such as Istio, Knative, Grafana, Cilium and more. Whether you are running a production environment or interested in exploring K8s, MicroK8s serves your needs,\" see [Introduction to MicroK8s](https://ubuntu.com/blog/introduction-to-microk8s-part-1-2)."
   ]
  },
  {
   "cell_type": "markdown",
   "metadata": {},
   "source": [
    "### The model\n",
    "\n",
    "AccountReceivable and GeneralLedger are microservices. We use sockets for communication.\n",
    "\n",
    "To create statefulset pods we used Suyash Mohan article [Setting up PostgreSQL Database on Kubernetes](https://medium.com/@suyashmohan/setting-up-postgresql-database-on-kubernetes-24a2a192e962) as a guideline.\n",
    "```\n",
    "                         Store\n",
    "                           ↕\n",
    "                       Counter (cnt)\n",
    "                           ↓\n",
    "    testpluto.jl        Invoice Nbr\n",
    "          ↓                ↓\n",
    "      Orders/ → AccountsReceivable (ar) → Entries → GeneralLedger (gl)\n",
    "  BankStatements           ↕                               ↕\n",
    "                         Store                           Store\n",
    "                  Unpaid/PaidInvoices            Journal/GeneralLedger\n",
    "```"
   ]
  },
  {
   "cell_type": "markdown",
   "metadata": {},
   "source": [
    "### Check whether ar-statefulset, gl-statefullset and cnt-statefullset pods are running\n",
    "\n",
    "Run the next command from the terminal:\n",
    "\n",
    "**microk8s.kubectl get pods -n socket-ns**\n",
    "\n",
    "```\n",
    "NAME                READY   STATUS    RESTARTS   AGE\n",
    "cnt-statefulset-0   2/2     Running   0          160m\n",
    "gl-statefulset-0    2/2     Running   0          159m\n",
    "gl-statefulset-1    2/2     Running   0          159m\n",
    "ar-statefulset-1    2/2     Running   0          98m\n",
    "ar-statefulset-0    2/2     Running   0          97m\n",
    "```"
   ]
  },
  {
   "cell_type": "markdown",
   "metadata": {},
   "source": [
    "### If pods are not running use next commands from the terminal\n",
    "- Install microk8s: **sudo snap install microk8s --classic**\n",
    "- Enable microk8s build-in apps: **microk8s enable registry dashboard dns istio storage**\n",
    "- Clone files from GitHub: **git clone https://github.com/rbontekoe/ar.git**\n",
    "- Enter the folder with the downloaded files: **cd ar**\n",
    "- Download Julia 1.6.5: **curl -O https://julialang-s3.julialang.org/bin/linux/x64/1.6/julia-1.6.5-linux-x86_64.tar.gz**\n",
    "- Create accounts receivable image: **docker build --no-cache -f ar.Dockerfile -t localhost:32000/i_ar:v1.0.16 .**\n",
    "- Copy to local registry: **docker push localhost:32000/i_ar:v1.0.16**\n",
    "- Create general ledger image: **docker build --no-cache -f gl.Dockerfile -t localhost:32000/i_gl:v1.0.3 .**\n",
    "- Copy to local registry: **docker push localhost:32000/i_gl:v1.0.3**\n",
    "- Create counter image: **docker build --no-cache -f cnt.Dockerfile -t localhost:32000/i_cnt:v1.0.1 .**\n",
    "- Copy to local registry: **docker push localhost:32000/i_cnt:v1.0.1**\n",
    "- **microk8s.kubectl apply -f ar-storage.yaml**\n",
    "- **microk8s.kubectl apply -f cnt-storage.yaml**\n",
    "- **microk8s.kubectl apply -f gl-storage.yaml**"
   ]
  },
  {
   "cell_type": "markdown",
   "metadata": {},
   "source": [
    "## Connect to AppliAR.jl, create and process the orders"
   ]
  },
  {
   "cell_type": "code",
   "execution_count": 6,
   "metadata": {},
   "outputs": [],
   "source": [
    "import Pkg; Pkg.add(url=\"https://github.com/rbontekoe/AppliAR\")"
   ]
  },
  {
   "cell_type": "markdown",
   "metadata": {},
   "source": [
    "### Load the files"
   ]
  },
  {
   "cell_type": "code",
   "execution_count": 7,
   "metadata": {},
   "outputs": [],
   "source": [
    "using Sockets, Serialization, AppliSales, AppliAR, AppliGeneralLedger, DataFrames, Query"
   ]
  },
  {
   "cell_type": "markdown",
   "metadata": {},
   "source": [
    "### Delete the old data files\n",
    "\n",
    "Go to the terminal and delete the next files:\n",
    "```\n",
    "sudo rm /var/data-ar/*\n",
    "```"
   ]
  },
  {
   "cell_type": "markdown",
   "metadata": {},
   "source": [
    "### Connect to AppliAR.jl, create and process the orders"
   ]
  },
  {
   "cell_type": "code",
   "execution_count": 8,
   "metadata": {},
   "outputs": [
    {
     "data": {
      "text/plain": [
       "TCPSocket(RawFD(49) open, 0 bytes waiting)"
      ]
     },
     "execution_count": 8,
     "metadata": {},
     "output_type": "execute_result"
    }
   ],
   "source": [
    "clientside = connect(ip\"127.0.0.1\", 30012) # connect to accounts receivable pod"
   ]
  },
  {
   "cell_type": "code",
   "execution_count": 14,
   "metadata": {},
   "outputs": [],
   "source": [
    "sales = AppliSales.process() # create sales orders\n",
    "serialize(clientside, sales) # send orders to account receivable"
   ]
  },
  {
   "cell_type": "markdown",
   "metadata": {},
   "source": [
    "```\n",
    "r0 = AppliGeneralLedger.read_from_file(\"/var/data-ar/generalledger.txt\")\n",
    "df1 = r0 |> @filter(_.accountid == 1300) |> DataFrame\n",
    "df1[:, [:accountid, :customerid, :invoice_nbr, :debit, :credit, :descr]]\n",
    "```"
   ]
  },
  {
   "cell_type": "markdown",
   "metadata": {},
   "source": [
    "### Load and process the bank statements"
   ]
  },
  {
   "cell_type": "code",
   "execution_count": 11,
   "metadata": {},
   "outputs": [
    {
     "data": {
      "text/plain": [
       "2-element Vector{BankStatement}:\n",
       " BankStatement(Dates.Date(\"2020-01-15\"), \"Duck City Chronicals Invoice 1002\", \"NL93INGB\", 2420.0)\n",
       " BankStatement(Dates.Date(\"2020-01-15\"), \"Donalds Hardware Store Bill 1003\", \"NL39INGB\", 1210.0)"
      ]
     },
     "execution_count": 11,
     "metadata": {},
     "output_type": "execute_result"
    }
   ],
   "source": [
    "stms = AppliAR.read_bank_statements(\"./bank-kubernetes.csv\") # retrieve the bankstatements"
   ]
  },
  {
   "cell_type": "code",
   "execution_count": 12,
   "metadata": {},
   "outputs": [],
   "source": [
    "serialize(clientside, stms) # create paid invoices and update general ledger"
   ]
  },
  {
   "cell_type": "markdown",
   "metadata": {},
   "source": [
    "### Display Accounts Receivable\n",
    "\n",
    "Other accounts are:\n",
    "\n",
    "```\n",
    "8000 - Sales\n",
    "1150 - Bank\n",
    "4000 - VAT\n",
    "1300 - Accounts Receivable\n",
    "```"
   ]
  },
  {
   "cell_type": "code",
   "execution_count": 13,
   "metadata": {},
   "outputs": [],
   "source": [
    "accountid = 1300;"
   ]
  },
  {
   "cell_type": "markdown",
   "metadata": {},
   "source": [
    "```\n",
    "r2 = AppliGeneralLedger.read_from_file(\"/var/data-ar/generalledger.txt\")\n",
    "df2 = r2 |> @filter(_.accountid == accountid) |> DataFrame\n",
    "df2[:, [:accountid, :customerid, :invoice_nbr, :debit, :credit, :descr]]\n",
    "```"
   ]
  },
  {
   "cell_type": "markdown",
   "metadata": {},
   "source": [
    "### Display the status of the unpaid invoices"
   ]
  },
  {
   "cell_type": "markdown",
   "metadata": {},
   "source": [
    "```\n",
    "r1 = AppliAR.aging(\"/var/data-ar/unpaid-invoices.txt\", \"/var/data-ar/paid-invoices.txt\")\n",
    "result = DataFrame(r1)\n",
    "```"
   ]
  },
  {
   "cell_type": "code",
   "execution_count": null,
   "metadata": {},
   "outputs": [],
   "source": []
  }
 ],
 "metadata": {
  "kernelspec": {
   "display_name": "Julia 1.6.5",
   "language": "julia",
   "name": "julia-1.6"
  },
  "language_info": {
   "file_extension": ".jl",
   "mimetype": "application/julia",
   "name": "julia",
   "version": "1.6.5"
  }
 },
 "nbformat": 4,
 "nbformat_minor": 4
}
